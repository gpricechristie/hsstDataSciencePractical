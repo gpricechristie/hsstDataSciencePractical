{
 "cells": [
  {
   "cell_type": "markdown",
   "id": "ef6c393d",
   "metadata": {},
   "source": [
    "# Data science practical\n",
    "In this data science tutorial we will reporoduce some of the analysis from \"A Validated Prediction Model for Overall \n",
    "Survival From Stage III Non-Small Cell Lung Cancer: Toward Survival Prediction for Individual Patients\" from the Maastro clinic.\n",
    "\n",
    "<img src=\"images/paperTitle.png\">\n",
    "\n",
    "The paper can be found at [with this DOI](https://doi.org/10.1016/j.ijrobp.2015.02.048)\n",
    "\n",
    "The model is also hosted at [predictcancer.org](http://predictcancer.org/Main.php?page=Home) where and can be interacted with [via a web interface](http://predictcancer.org/Main.php?page=LungSurvivalModel3).\n",
    "\n",
    "The lesson is given as a Jupyter notebook, hosted from a github repository, that you will be able to access online. Separate instructions on how to access this via [binder](https://mybinder.org) are given separately."
   ]
  },
  {
   "attachments": {},
   "cell_type": "markdown",
   "id": "c5541a16",
   "metadata": {},
   "source": [
    "## Model data\n",
    "The data used in the paper is hosted at [cancerdata.org](https://www.cancerdata.org/data/files). This should be hosted alongside the code you're using but can be downloaded (along with many other datasets if you are interested) by:\n",
    "* Navigating to the “A validated prediction model from overall survival from Stage III Non-Small Cell Lung Cancer – towards survival prediction for individual patients” dataset\n",
    "* Selecting csv file format\n",
    "\n",
    "<img src=\"images/cancerdatalocation.png\">\n"
   ]
  },
  {
   "cell_type": "markdown",
   "id": "f84b19da",
   "metadata": {},
   "source": [
    "## Load data workspace\n",
    "The first thing to do is to load the csv and inspect the data."
   ]
  },
  {
   "cell_type": "code",
   "execution_count": 176,
   "id": "c5702292",
   "metadata": {},
   "outputs": [],
   "source": [
    "lung.data = read.csv(file='data/Stage3_anonymized.csv',head=TRUE,sep=\";\",na.strings=c(\"NA\",\"\",\" \"))\n"
   ]
  },
  {
   "cell_type": "markdown",
   "id": "b3c95c16",
   "metadata": {},
   "source": [
    "The CSV is loaded into R as a `data.frame` object called `lung.data`. This is essentially a copy of the columns and rows of the CSV data that can be manipulated by R. Using the `names()` command tells us what each column (variable) is called. The `head()` command inspect the first few rows of each column so we can see the data type in each. We can also count the number of rows (i.e. patients in the cohort) using the `nrow()` command."
   ]
  },
  {
   "cell_type": "code",
   "execution_count": 177,
   "id": "4f8a0bbe",
   "metadata": {},
   "outputs": [
    {
     "data": {
      "text/html": [
       "<style>\n",
       ".list-inline {list-style: none; margin:0; padding: 0}\n",
       ".list-inline>li {display: inline-block}\n",
       ".list-inline>li:not(:last-child)::after {content: \"\\00b7\"; padding: 0 .5ex}\n",
       "</style>\n",
       "<ol class=list-inline><li>'study_id'</li><li>'gender'</li><li>'age'</li><li>'who3g'</li><li>'bmi'</li><li>'fev1pc_t0'</li><li>'dumsmok2'</li><li>'t_ct_loc'</li><li>'hist4g'</li><li>'countpet_all6g'</li><li>'countpet_mediast6g'</li><li>'tstage'</li><li>'nstage'</li><li>'stage'</li><li>'timing'</li><li>'group'</li><li>'yearrt'</li><li>'eqd2'</li><li>'ott'</li><li>'gtv1'</li><li>'tumorload_total'</li><li>'survmonth'</li><li>'survyear'</li><li>'deadstat'</li></ol>\n"
      ],
      "text/latex": [
       "\\begin{enumerate*}\n",
       "\\item 'study\\_id'\n",
       "\\item 'gender'\n",
       "\\item 'age'\n",
       "\\item 'who3g'\n",
       "\\item 'bmi'\n",
       "\\item 'fev1pc\\_t0'\n",
       "\\item 'dumsmok2'\n",
       "\\item 't\\_ct\\_loc'\n",
       "\\item 'hist4g'\n",
       "\\item 'countpet\\_all6g'\n",
       "\\item 'countpet\\_mediast6g'\n",
       "\\item 'tstage'\n",
       "\\item 'nstage'\n",
       "\\item 'stage'\n",
       "\\item 'timing'\n",
       "\\item 'group'\n",
       "\\item 'yearrt'\n",
       "\\item 'eqd2'\n",
       "\\item 'ott'\n",
       "\\item 'gtv1'\n",
       "\\item 'tumorload\\_total'\n",
       "\\item 'survmonth'\n",
       "\\item 'survyear'\n",
       "\\item 'deadstat'\n",
       "\\end{enumerate*}\n"
      ],
      "text/markdown": [
       "1. 'study_id'\n",
       "2. 'gender'\n",
       "3. 'age'\n",
       "4. 'who3g'\n",
       "5. 'bmi'\n",
       "6. 'fev1pc_t0'\n",
       "7. 'dumsmok2'\n",
       "8. 't_ct_loc'\n",
       "9. 'hist4g'\n",
       "10. 'countpet_all6g'\n",
       "11. 'countpet_mediast6g'\n",
       "12. 'tstage'\n",
       "13. 'nstage'\n",
       "14. 'stage'\n",
       "15. 'timing'\n",
       "16. 'group'\n",
       "17. 'yearrt'\n",
       "18. 'eqd2'\n",
       "19. 'ott'\n",
       "20. 'gtv1'\n",
       "21. 'tumorload_total'\n",
       "22. 'survmonth'\n",
       "23. 'survyear'\n",
       "24. 'deadstat'\n",
       "\n",
       "\n"
      ],
      "text/plain": [
       " [1] \"study_id\"           \"gender\"             \"age\"               \n",
       " [4] \"who3g\"              \"bmi\"                \"fev1pc_t0\"         \n",
       " [7] \"dumsmok2\"           \"t_ct_loc\"           \"hist4g\"            \n",
       "[10] \"countpet_all6g\"     \"countpet_mediast6g\" \"tstage\"            \n",
       "[13] \"nstage\"             \"stage\"              \"timing\"            \n",
       "[16] \"group\"              \"yearrt\"             \"eqd2\"              \n",
       "[19] \"ott\"                \"gtv1\"               \"tumorload_total\"   \n",
       "[22] \"survmonth\"          \"survyear\"           \"deadstat\"          "
      ]
     },
     "metadata": {},
     "output_type": "display_data"
    },
    {
     "data": {
      "text/html": [
       "<table class=\"dataframe\">\n",
       "<caption>A data.frame: 6 × 24</caption>\n",
       "<thead>\n",
       "\t<tr><th></th><th scope=col>study_id</th><th scope=col>gender</th><th scope=col>age</th><th scope=col>who3g</th><th scope=col>bmi</th><th scope=col>fev1pc_t0</th><th scope=col>dumsmok2</th><th scope=col>t_ct_loc</th><th scope=col>hist4g</th><th scope=col>countpet_all6g</th><th scope=col>...</th><th scope=col>timing</th><th scope=col>group</th><th scope=col>yearrt</th><th scope=col>eqd2</th><th scope=col>ott</th><th scope=col>gtv1</th><th scope=col>tumorload_total</th><th scope=col>survmonth</th><th scope=col>survyear</th><th scope=col>deadstat</th></tr>\n",
       "\t<tr><th></th><th scope=col>&lt;int&gt;</th><th scope=col>&lt;int&gt;</th><th scope=col>&lt;fct&gt;</th><th scope=col>&lt;int&gt;</th><th scope=col>&lt;fct&gt;</th><th scope=col>&lt;fct&gt;</th><th scope=col>&lt;int&gt;</th><th scope=col>&lt;int&gt;</th><th scope=col>&lt;int&gt;</th><th scope=col>&lt;int&gt;</th><th scope=col>...</th><th scope=col>&lt;int&gt;</th><th scope=col>&lt;int&gt;</th><th scope=col>&lt;int&gt;</th><th scope=col>&lt;fct&gt;</th><th scope=col>&lt;int&gt;</th><th scope=col>&lt;fct&gt;</th><th scope=col>&lt;fct&gt;</th><th scope=col>&lt;fct&gt;</th><th scope=col>&lt;fct&gt;</th><th scope=col>&lt;int&gt;</th></tr>\n",
       "</thead>\n",
       "<tbody>\n",
       "\t<tr><th scope=row>1</th><td>1</td><td>1</td><td>63,1567419575633</td><td>2</td><td>22,9938271604938</td><td>82  </td><td>2</td><td>6</td><td>4</td><td>4</td><td>...</td><td>3</td><td>4</td><td>2008</td><td>53,125</td><td>28</td><td>192,86          </td><td>214,08          </td><td>16,9199178644764</td><td>1,40999315537303</td><td>1</td></tr>\n",
       "\t<tr><th scope=row>2</th><td>2</td><td>2</td><td>66,3052703627652</td><td>2</td><td>28,515625       </td><td>62  </td><td>2</td><td>1</td><td>1</td><td>4</td><td>...</td><td>3</td><td>4</td><td>2010</td><td>55,125</td><td>32</td><td>154,93          </td><td>169,9           </td><td>5,12525667351129</td><td>,427104722792608</td><td>1</td></tr>\n",
       "\t<tr><th scope=row>3</th><td>3</td><td>1</td><td>58,1984941820671</td><td>1</td><td>25,1278305332359</td><td>95  </td><td>2</td><td>4</td><td>1</td><td>1</td><td>...</td><td>3</td><td>4</td><td>2008</td><td>65,125</td><td>32</td><td>85,07           </td><td>85,07           </td><td>57,96           </td><td>4,83            </td><td>0</td></tr>\n",
       "\t<tr><th scope=row>4</th><td>4</td><td>2</td><td>63,7809719370294</td><td>2</td><td>28,7267877295578</td><td>73  </td><td>2</td><td>6</td><td>2</td><td>6</td><td>...</td><td>3</td><td>4</td><td>2007</td><td>63,125</td><td>36</td><td>98,17           </td><td>120,51          </td><td>7,42505133470226</td><td>,618754277891855</td><td>1</td></tr>\n",
       "\t<tr><th scope=row>5</th><td>5</td><td>1</td><td>59,4140999315537</td><td>1</td><td>20,3244382551093</td><td>124 </td><td>2</td><td>6</td><td>4</td><td>3</td><td>...</td><td>3</td><td>4</td><td>2008</td><td>65,125</td><td>36</td><td>62,89           </td><td>136,32          </td><td>16,6899383983573</td><td>1,39082819986311</td><td>1</td></tr>\n",
       "\t<tr><th scope=row>6</th><td>6</td><td>1</td><td>49,2594113620808</td><td>2</td><td>21,5138585105239</td><td>56,8</td><td>2</td><td>1</td><td>4</td><td>3</td><td>...</td><td>3</td><td>4</td><td>2006</td><td>63,125</td><td>35</td><td>37,8300018310547</td><td>43,7400016784668</td><td>22,0123203285421</td><td>1,83436002737851</td><td>1</td></tr>\n",
       "</tbody>\n",
       "</table>\n"
      ],
      "text/latex": [
       "A data.frame: 6 × 24\n",
       "\\begin{tabular}{r|lllllllllllllllllllll}\n",
       "  & study\\_id & gender & age & who3g & bmi & fev1pc\\_t0 & dumsmok2 & t\\_ct\\_loc & hist4g & countpet\\_all6g & ... & timing & group & yearrt & eqd2 & ott & gtv1 & tumorload\\_total & survmonth & survyear & deadstat\\\\\n",
       "  & <int> & <int> & <fct> & <int> & <fct> & <fct> & <int> & <int> & <int> & <int> & ... & <int> & <int> & <int> & <fct> & <int> & <fct> & <fct> & <fct> & <fct> & <int>\\\\\n",
       "\\hline\n",
       "\t1 & 1 & 1 & 63,1567419575633 & 2 & 22,9938271604938 & 82   & 2 & 6 & 4 & 4 & ... & 3 & 4 & 2008 & 53,125 & 28 & 192,86           & 214,08           & 16,9199178644764 & 1,40999315537303 & 1\\\\\n",
       "\t2 & 2 & 2 & 66,3052703627652 & 2 & 28,515625        & 62   & 2 & 1 & 1 & 4 & ... & 3 & 4 & 2010 & 55,125 & 32 & 154,93           & 169,9            & 5,12525667351129 & ,427104722792608 & 1\\\\\n",
       "\t3 & 3 & 1 & 58,1984941820671 & 1 & 25,1278305332359 & 95   & 2 & 4 & 1 & 1 & ... & 3 & 4 & 2008 & 65,125 & 32 & 85,07            & 85,07            & 57,96            & 4,83             & 0\\\\\n",
       "\t4 & 4 & 2 & 63,7809719370294 & 2 & 28,7267877295578 & 73   & 2 & 6 & 2 & 6 & ... & 3 & 4 & 2007 & 63,125 & 36 & 98,17            & 120,51           & 7,42505133470226 & ,618754277891855 & 1\\\\\n",
       "\t5 & 5 & 1 & 59,4140999315537 & 1 & 20,3244382551093 & 124  & 2 & 6 & 4 & 3 & ... & 3 & 4 & 2008 & 65,125 & 36 & 62,89            & 136,32           & 16,6899383983573 & 1,39082819986311 & 1\\\\\n",
       "\t6 & 6 & 1 & 49,2594113620808 & 2 & 21,5138585105239 & 56,8 & 2 & 1 & 4 & 3 & ... & 3 & 4 & 2006 & 63,125 & 35 & 37,8300018310547 & 43,7400016784668 & 22,0123203285421 & 1,83436002737851 & 1\\\\\n",
       "\\end{tabular}\n"
      ],
      "text/markdown": [
       "\n",
       "A data.frame: 6 × 24\n",
       "\n",
       "| <!--/--> | study_id &lt;int&gt; | gender &lt;int&gt; | age &lt;fct&gt; | who3g &lt;int&gt; | bmi &lt;fct&gt; | fev1pc_t0 &lt;fct&gt; | dumsmok2 &lt;int&gt; | t_ct_loc &lt;int&gt; | hist4g &lt;int&gt; | countpet_all6g &lt;int&gt; | ... ... | timing &lt;int&gt; | group &lt;int&gt; | yearrt &lt;int&gt; | eqd2 &lt;fct&gt; | ott &lt;int&gt; | gtv1 &lt;fct&gt; | tumorload_total &lt;fct&gt; | survmonth &lt;fct&gt; | survyear &lt;fct&gt; | deadstat &lt;int&gt; |\n",
       "|---|---|---|---|---|---|---|---|---|---|---|---|---|---|---|---|---|---|---|---|---|---|\n",
       "| 1 | 1 | 1 | 63,1567419575633 | 2 | 22,9938271604938 | 82   | 2 | 6 | 4 | 4 | ... | 3 | 4 | 2008 | 53,125 | 28 | 192,86           | 214,08           | 16,9199178644764 | 1,40999315537303 | 1 |\n",
       "| 2 | 2 | 2 | 66,3052703627652 | 2 | 28,515625        | 62   | 2 | 1 | 1 | 4 | ... | 3 | 4 | 2010 | 55,125 | 32 | 154,93           | 169,9            | 5,12525667351129 | ,427104722792608 | 1 |\n",
       "| 3 | 3 | 1 | 58,1984941820671 | 1 | 25,1278305332359 | 95   | 2 | 4 | 1 | 1 | ... | 3 | 4 | 2008 | 65,125 | 32 | 85,07            | 85,07            | 57,96            | 4,83             | 0 |\n",
       "| 4 | 4 | 2 | 63,7809719370294 | 2 | 28,7267877295578 | 73   | 2 | 6 | 2 | 6 | ... | 3 | 4 | 2007 | 63,125 | 36 | 98,17            | 120,51           | 7,42505133470226 | ,618754277891855 | 1 |\n",
       "| 5 | 5 | 1 | 59,4140999315537 | 1 | 20,3244382551093 | 124  | 2 | 6 | 4 | 3 | ... | 3 | 4 | 2008 | 65,125 | 36 | 62,89            | 136,32           | 16,6899383983573 | 1,39082819986311 | 1 |\n",
       "| 6 | 6 | 1 | 49,2594113620808 | 2 | 21,5138585105239 | 56,8 | 2 | 1 | 4 | 3 | ... | 3 | 4 | 2006 | 63,125 | 35 | 37,8300018310547 | 43,7400016784668 | 22,0123203285421 | 1,83436002737851 | 1 |\n",
       "\n"
      ],
      "text/plain": [
       "  study_id gender age              who3g bmi              fev1pc_t0 dumsmok2\n",
       "1 1        1      63,1567419575633 2     22,9938271604938 82        2       \n",
       "2 2        2      66,3052703627652 2     28,515625        62        2       \n",
       "3 3        1      58,1984941820671 1     25,1278305332359 95        2       \n",
       "4 4        2      63,7809719370294 2     28,7267877295578 73        2       \n",
       "5 5        1      59,4140999315537 1     20,3244382551093 124       2       \n",
       "6 6        1      49,2594113620808 2     21,5138585105239 56,8      2       \n",
       "  t_ct_loc hist4g countpet_all6g ... timing group yearrt eqd2   ott\n",
       "1 6        4      4              ... 3      4     2008   53,125 28 \n",
       "2 1        1      4              ... 3      4     2010   55,125 32 \n",
       "3 4        1      1              ... 3      4     2008   65,125 32 \n",
       "4 6        2      6              ... 3      4     2007   63,125 36 \n",
       "5 6        4      3              ... 3      4     2008   65,125 36 \n",
       "6 1        4      3              ... 3      4     2006   63,125 35 \n",
       "  gtv1             tumorload_total  survmonth        survyear         deadstat\n",
       "1 192,86           214,08           16,9199178644764 1,40999315537303 1       \n",
       "2 154,93           169,9            5,12525667351129 ,427104722792608 1       \n",
       "3 85,07            85,07            57,96            4,83             0       \n",
       "4 98,17            120,51           7,42505133470226 ,618754277891855 1       \n",
       "5 62,89            136,32           16,6899383983573 1,39082819986311 1       \n",
       "6 37,8300018310547 43,7400016784668 22,0123203285421 1,83436002737851 1       "
      ]
     },
     "metadata": {},
     "output_type": "display_data"
    },
    {
     "name": "stdout",
     "output_type": "stream",
     "text": [
      "[1] \"Number of rows\"\n"
     ]
    },
    {
     "data": {
      "text/html": [
       "548"
      ],
      "text/latex": [
       "548"
      ],
      "text/markdown": [
       "548"
      ],
      "text/plain": [
       "[1] 548"
      ]
     },
     "metadata": {},
     "output_type": "display_data"
    }
   ],
   "source": [
    "names(lung.data)\n",
    "head(lung.data)\n",
    "print('Number of rows')\n",
    "nrow(lung.data)"
   ]
  },
  {
   "cell_type": "markdown",
   "id": "166ee897",
   "metadata": {},
   "source": [
    "## Check and curate data\n",
    "One of the main things to check is where data is missing and if it is, decide on a strategy for taking account of this. This can be done visually using the `gg_miss_var` command."
   ]
  },
  {
   "cell_type": "code",
   "execution_count": 178,
   "id": "35b4c3ef",
   "metadata": {},
   "outputs": [
    {
     "data": {
      "image/png": "[encoded data removed]",
      "text/plain": [
       "plot without title"
      ]
     },
     "metadata": {
      "image/png": {
       "height": 420,
       "width": 420
      }
     },
     "output_type": "display_data"
    }
   ],
   "source": [
    "gg_miss_var(lung.data)"
   ]
  },
  {
   "cell_type": "markdown",
   "id": "cf748f6e",
   "metadata": {},
   "source": [
    "The first time this command in a session is run you will get an error message telling you the function cannot be found:\n",
    "<img src=\"images/gg_miss_varMissing.png\">\n",
    "This shows that the library containing this function needs to be loaded (the functions we have used already are part of the core R commans). This can be done using the `library()` commnd. Execute the command below and then go back and execute the previous cell. It should now work and give you a chart showing the number of rows where the data us missing for each column."
   ]
  },
  {
   "cell_type": "code",
   "execution_count": 78,
   "id": "33ec8b6a",
   "metadata": {},
   "outputs": [],
   "source": [
    "library(naniar)"
   ]
  },
  {
   "cell_type": "markdown",
   "id": "8ee6908f",
   "metadata": {},
   "source": [
    "At this point we will also add the other libraries we will need throughout this demo"
   ]
  },
  {
   "cell_type": "code",
   "execution_count": 179,
   "id": "f6f3d934",
   "metadata": {},
   "outputs": [],
   "source": [
    "library(ggplot2)\n",
    "library(survival)\n",
    "library(survminer)\n",
    "library(haven)\n",
    "library(formattable)"
   ]
  },
  {
   "cell_type": "markdown",
   "id": "f4403f17",
   "metadata": {},
   "source": [
    "### Remove variables with lots of missing data\n",
    "One way of dealing with missing data is to impute it from the other data. However, this only works well when relatively small volumes of data are missing. As a rule of thumb we will exclude variables where more than 10% of values are missing. From above we know we have 548 patients (rows) and so will exclude variables with more than 55 missing entries. Looking at the above chart we can see this means both the `bmi` (Body Mass Index) and `fev1pc_t0` (Forced Expiratory Volume in 1 minute) variables meet these criteria. \n",
    "\n",
    "Its easy to select or exclude columsn or rows from a data frame. We can use the `which` command with an expression to get the column/row index and then select with the `[]` square bracket operators.\n",
    "\n",
    "The commands below look for the column name 'bmi' and get its index and then select it from the dataframe. Finally we remove the column from the data frame."
   ]
  },
  {
   "cell_type": "code",
   "execution_count": 180,
   "id": "cd2cc20d",
   "metadata": {},
   "outputs": [
    {
     "data": {
      "text/html": [
       "'Column index:'"
      ],
      "text/latex": [
       "'Column index:'"
      ],
      "text/markdown": [
       "'Column index:'"
      ],
      "text/plain": [
       "[1] \"Column index:\""
      ]
     },
     "metadata": {},
     "output_type": "display_data"
    },
    {
     "name": "stdout",
     "output_type": "stream",
     "text": [
      "[1] 5\n"
     ]
    },
    {
     "data": {
      "text/html": [
       "'Column values rows 1 -&gt; 10:'"
      ],
      "text/latex": [
       "'Column values rows 1 -> 10:'"
      ],
      "text/markdown": [
       "'Column values rows 1 -&gt; 10:'"
      ],
      "text/plain": [
       "[1] \"Column values rows 1 -> 10:\""
      ]
     },
     "metadata": {},
     "output_type": "display_data"
    },
    {
     "data": {
      "text/html": [
       "<style>\n",
       ".list-inline {list-style: none; margin:0; padding: 0}\n",
       ".list-inline>li {display: inline-block}\n",
       ".list-inline>li:not(:last-child)::after {content: \"\\00b7\"; padding: 0 .5ex}\n",
       "</style>\n",
       "<ol class=list-inline><li>22,9938271604938</li><li>28,515625</li><li>25,1278305332359</li><li>28,7267877295578</li><li>20,3244382551093</li><li>21,5138585105239</li><li>23,3886865581877</li><li>21,4902855137933</li><li>22,9209710743802</li><li>&lt;NA&gt;</li></ol>\n",
       "\n",
       "<details>\n",
       "\t<summary style=display:list-item;cursor:pointer>\n",
       "\t\t<strong>Levels</strong>:\n",
       "\t</summary>\n",
       "\t<style>\n",
       "\t.list-inline {list-style: none; margin:0; padding: 0}\n",
       "\t.list-inline>li {display: inline-block}\n",
       "\t.list-inline>li:not(:last-child)::after {content: \"\\00b7\"; padding: 0 .5ex}\n",
       "\t</style>\n",
       "\t<ol class=list-inline><li>'14,3425723403492'</li><li>'15,9438775510204'</li><li>'16,1842749068463'</li><li>'16,3265306122449'</li><li>'16,9836956521739'</li><li>'17,110020661157'</li><li>'17,578125'</li><li>'17,7154195011338'</li><li>'17,7462289263531'</li><li>'17,981667470725'</li><li>'18,0840995132504'</li><li>'18,1448686311511'</li><li>'18,3654729109275'</li><li>'18,491124260355'</li><li>'18,6011904761905'</li><li>'18,8092062514962'</li><li>'18,8267934998018'</li><li>'18,9035916824197'</li><li>'18,9291508923743'</li><li>'18,9370029036738'</li><li>'19,0039083509627'</li><li>'19,0450733402386'</li><li>'19,0519737844841'</li><li>'19,1326530612245'</li><li>'19,1570881226054'</li><li>'19,2335607490202'</li><li>'19,252619618735'</li><li>'19,379197433927'</li><li>'19,383492039595'</li><li>'19,53125'</li><li>'19,6071566121634'</li><li>'19,6232339089482'</li><li>'19,6282647011697'</li><li>'19,6751668531307'</li><li>'19,7210369679802'</li><li>'19,7896975425331'</li><li>'19,8176773682124'</li><li>'19,8178444931692'</li><li>'19,8838530488575'</li><li>'20,0065693212697'</li><li>'20,0288415318058'</li><li>'20,0773349196907'</li><li>'20,0882752376641'</li><li>'20,1091640333238'</li><li>'20,1955782312925'</li><li>'20,2335530119089'</li><li>'20,2448979591837'</li><li>'20,3125'</li><li>'20,3222528668892'</li><li>'20,3244382551093'</li><li>'20,467458677686'</li><li>'20,4782666138195'</li><li>'20,5078125'</li><li>'20,5498866213152'</li><li>'20,5693296602388'</li><li>'20,617447739252'</li><li>'20,7008167413151'</li><li>'20,7967298935064'</li><li>'20,8085612366231'</li><li>'20,8307031940412'</li><li>'20,8325296091972'</li><li>'20,8979591836735'</li><li>'20,9571711629325'</li><li>'20,9737085480248'</li><li>'21,0076677987465'</li><li>'21,0372534696859'</li><li>'21,1463199091024'</li><li>'21,2244897959184'</li><li>'21,2665406427221'</li><li>'21,414224952741'</li><li>'21,4532871972318'</li><li>'21,4902855137933'</li><li>'21,5138585105239'</li><li>'21,5450907971684'</li><li>'21,5510204081633'</li><li>'21,5645449137418'</li><li>'21,6049382716049'</li><li>'21,6333153055706'</li><li>'21,6441207075963'</li><li>'21,7051294327939'</li><li>'21,7775533392248'</li><li>'21,7994451050337'</li><li>'21,8870763653774'</li><li>'21,9135802469136'</li><li>'21,9671201814059'</li><li>'21,9713358572201'</li><li>'21,9773511187082'</li><li>'21,9898923652637'</li><li>'22,0317256849864'</li><li>'22,038567493113'</li><li>'22,0521901834341'</li><li>'22,0580511886839'</li><li>'22,1453287197232'</li><li>'22,1526465028355'</li><li>'22,2290619335864'</li><li>'22,3093564088697'</li><li>'22,3863142771225'</li><li>'22,4087867693473'</li><li>'22,4712087637714'</li><li>'22,5308641975309'</li><li>'22,5878330942279'</li><li>'22,7189744005842'</li><li>'22,7204383708109'</li><li>'22,7903289734443'</li><li>'22,8373702422145'</li><li>'22,8395061728395'</li><li>'22,8571428571429'</li><li>'22,8928199791883'</li><li>'22,9130330700044'</li><li>'22,9209710743802'</li><li>'22,9590876585494'</li><li>'22,9938271604938'</li><li>'23,0111768573307'</li><li>'23,0300453514739'</li><li>'23,0400201994698'</li><li>'23,0577256944444'</li><li>'23,1833910034602'</li><li>'23,301094832264'</li><li>'23,3066800530675'</li><li>'23,355636914531'</li><li>'23,3886865581877'</li><li>'23,4375'</li><li>'23,5078053259871'</li><li>'23,5294117647059'</li><li>'23,5883292204964'</li><li>'23,6244474927602'</li><li>'23,6614386154678'</li><li>'23,7228106518761'</li><li>'23,7399561723886'</li><li>'23,7654320987654'</li><li>'23,7812128418549'</li><li>'23,7953599048186'</li><li>'23,8702623906706'</li><li>'23,8884409806205'</li><li>'23,922422999701'</li><li>'23,9394809920521'</li><li>'23,9868703446535'</li><li>'24,0054869684499'</li><li>'24,0234375'</li><li>'24,0317093723667'</li><li>'24,034609838167'</li><li>'24,0754738109235'</li><li>'24,1126543209877'</li><li>'24,1588179685585'</li><li>'24,1671624033314'</li><li>'24,1684694429421'</li><li>'24,2202268431002'</li><li>'24,2214532871972'</li><li>'24,2586740719461'</li><li>'24,2802636142907'</li><li>'24,3141239657425'</li><li>'24,3374797187669'</li><li>'24,3827160493827'</li><li>'24,3865264441396'</li><li>'24,3910588392529'</li><li>'24,441802087462'</li><li>'24,4535684096124'</li><li>'24,4646016033724'</li><li>'24,4897959183673'</li><li>'24,515595463138'</li><li>'24,5351239669421'</li><li>'24,5674740484429'</li><li>'24,6181037747759'</li><li>'24,6770213383655'</li><li>'24,7675659198293'</li><li>'24,7736588441962'</li><li>'24,8015873015873'</li><li>'24,8163265306122'</li><li>'24,8445105462412'</li><li>'24,8456790123457'</li><li>'24,9134948096886'</li><li>'24,9739854318418'</li><li>'25,1023913330691'</li><li>'25,1278305332359'</li><li>'25,1359392633631'</li><li>'25,2493372048984'</li><li>'25,2801098592428'</li><li>'25,3069320474676'</li><li>'25,3515413737155'</li><li>'25,390625'</li><li>'25,5649539199596'</li><li>'25,6172839506173'</li><li>'25,6402429718263'</li><li>'25,6489176156766'</li><li>'25,6543723973825'</li><li>'25,6611520347784'</li><li>'25,6895619253651'</li><li>'25,7116620752984'</li><li>'25,8064516129032'</li><li>'25,8264462809917'</li><li>'25,8645124716553'</li><li>'25,9094569517874'</li><li>'25,9645421720962'</li><li>'26,0261748958953'</li><li>'26,0845208501103'</li><li>'26,0932752014797'</li><li>'26,1401228733459'</li><li>'26,1492768595041'</li><li>'26,1751945211374'</li><li>'26,218820861678'</li><li>'26,2595847484332'</li><li>'26,2975778546713'</li><li>'26,3036189154816'</li><li>'26,3150681176503'</li><li>'26,3656030286641'</li><li>'26,3958034013833'</li><li>'26,4380708219837'</li><li>'26,4489795918367'</li><li>'26,4608241816219'</li><li>'26,4721074380165'</li><li>'26,4915082014806'</li><li>'26,528510346119'</li><li>'26,5337588296461'</li><li>'26,5625'</li><li>'26,5668397536529'</li><li>'26,609712545079'</li><li>'26,6193433895297'</li><li>'26,7228725206067'</li><li>'26,7538644470868'</li><li>'26,8923231381548'</li><li>'26,897670187097'</li><li>'26,9556811421773'</li><li>'26,9896193771626'</li><li>'27,0716052924092'</li><li>'27,281746031746'</li><li>'27,3356401384083'</li><li>'27,3588454567217'</li><li>'27,3909185602407'</li><li>'27,3981756824485'</li><li>'27,4144536926939'</li><li>'27,458654210327'</li><li>'27,4648107112762'</li><li>'27,4691358024691'</li><li>'27,5802003193497'</li><li>'27,6094517551723'</li><li>'27,681660899654'</li><li>'27,7274784970575'</li><li>'27,7551020408163'</li><li>'27,8718238090353'</li><li>'27,8851873884593'</li><li>'28,0276816608997'</li><li>'28,0403781445281'</li><li>'28,0557057869118'</li><li>'28,0889910306745'</li><li>'28,1969212010364'</li><li>'28,2312228217563'</li><li>'28,378215191402'</li><li>'28,4081841105685'</li><li>'28,5032139577594'</li><li>'28,515625'</li><li>'28,5604437853573'</li><li>'28,6047649516354'</li><li>'28,6726260752235'</li><li>'28,6801110976935'</li><li>'28,7267877295578'</li><li>'28,7319214876033'</li><li>'28,734672057202'</li><li>'28,734693877551'</li><li>'28,8754400537953'</li><li>'28,9590001524158'</li><li>'29,0123456790123'</li><li>'29,0253113198714'</li><li>'29,0547520661157'</li><li>'29,0606071215994'</li><li>'29,0687732977668'</li><li>'29,2633402012601'</li><li>'29,3198564870182'</li><li>'29,3847566574839'</li><li>'29,3962214295151'</li><li>'29,4117647058824'</li><li>'29,7265160523187'</li><li>'29,7458085451595'</li><li>'29,7608627148909'</li><li>'29,8605512257756'</li><li>'29,9148188209843'</li><li>'29,9357208448118'</li><li>'30,0568106751222'</li><li>'30,0838290968091'</li><li>'30,1194019147334'</li><li>'30,1895906291511'</li><li>'30,2469135802469'</li><li>'30,3460743801653'</li><li>'30,3673469387755'</li><li>'30,4577622502911'</li><li>'30,4779662232421'</li><li>'30,6689049586777'</li><li>'30,818540433925'</li><li>'30,9284310324893'</li><li>'31,0137051039698'</li><li>'31,0204081632653'</li><li>'31,1704652692385'</li><li>'31,2091740455799'</li><li>'31,3779891663364'</li><li>'31,7417889003976'</li><li>'31,9507898115799'</li><li>'32,1609161213563'</li><li>'32,2530864197531'</li><li>'32,4556777151203'</li><li>'32,5618850880571'</li><li>'32,6171875'</li><li>'32,7186198691255'</li><li>'33,5175736961451'</li><li>'33,6592970521542'</li><li>'33,7148803329865'</li><li>'33,7370242214533'</li><li>'33,8198647205411'</li><li>'34,4221736168382'</li><li>'34,9635796045786'</li><li>'34,9751416348711'</li><li>'35,2043036272299'</li><li>'35,5998576005696'</li><li>'36,1323346757499'</li><li>'37,109375'</li><li>'37,1822606814494'</li><li>'38,054798910431'</li><li>'38,0622837370242'</li><li>'39,4520893826537'</li><li>'41,015625'</li></ol>\n",
       "</details>"
      ],
      "text/latex": [
       "\\begin{enumerate*}\n",
       "\\item 22,9938271604938\n",
       "\\item 28,515625\n",
       "\\item 25,1278305332359\n",
       "\\item 28,7267877295578\n",
       "\\item 20,3244382551093\n",
       "\\item 21,5138585105239\n",
       "\\item 23,3886865581877\n",
       "\\item 21,4902855137933\n",
       "\\item 22,9209710743802\n",
       "\\item <NA>\n",
       "\\end{enumerate*}\n",
       "\n",
       "\\emph{Levels}: \\begin{enumerate*}\n",
       "\\item '14,3425723403492'\n",
       "\\item '15,9438775510204'\n",
       "\\item '16,1842749068463'\n",
       "\\item '16,3265306122449'\n",
       "\\item '16,9836956521739'\n",
       "\\item '17,110020661157'\n",
       "\\item '17,578125'\n",
       "\\item '17,7154195011338'\n",
       "\\item '17,7462289263531'\n",
       "\\item '17,981667470725'\n",
       "\\item '18,0840995132504'\n",
       "\\item '18,1448686311511'\n",
       "\\item '18,3654729109275'\n",
       "\\item '18,491124260355'\n",
       "\\item '18,6011904761905'\n",
       "\\item '18,8092062514962'\n",
       "\\item '18,8267934998018'\n",
       "\\item '18,9035916824197'\n",
       "\\item '18,9291508923743'\n",
       "\\item '18,9370029036738'\n",
       "\\item '19,0039083509627'\n",
       "\\item '19,0450733402386'\n",
       "\\item '19,0519737844841'\n",
       "\\item '19,1326530612245'\n",
       "\\item '19,1570881226054'\n",
       "\\item '19,2335607490202'\n",
       "\\item '19,252619618735'\n",
       "\\item '19,379197433927'\n",
       "\\item '19,383492039595'\n",
       "\\item '19,53125'\n",
       "\\item '19,6071566121634'\n",
       "\\item '19,6232339089482'\n",
       "\\item '19,6282647011697'\n",
       "\\item '19,6751668531307'\n",
       "\\item '19,7210369679802'\n",
       "\\item '19,7896975425331'\n",
       "\\item '19,8176773682124'\n",
       "\\item '19,8178444931692'\n",
       "\\item '19,8838530488575'\n",
       "\\item '20,0065693212697'\n",
       "\\item '20,0288415318058'\n",
       "\\item '20,0773349196907'\n",
       "\\item '20,0882752376641'\n",
       "\\item '20,1091640333238'\n",
       "\\item '20,1955782312925'\n",
       "\\item '20,2335530119089'\n",
       "\\item '20,2448979591837'\n",
       "\\item '20,3125'\n",
       "\\item '20,3222528668892'\n",
       "\\item '20,3244382551093'\n",
       "\\item '20,467458677686'\n",
       "\\item '20,4782666138195'\n",
       "\\item '20,5078125'\n",
       "\\item '20,5498866213152'\n",
       "\\item '20,5693296602388'\n",
       "\\item '20,617447739252'\n",
       "\\item '20,7008167413151'\n",
       "\\item '20,7967298935064'\n",
       "\\item '20,8085612366231'\n",
       "\\item '20,8307031940412'\n",
       "\\item '20,8325296091972'\n",
       "\\item '20,8979591836735'\n",
       "\\item '20,9571711629325'\n",
       "\\item '20,9737085480248'\n",
       "\\item '21,0076677987465'\n",
       "\\item '21,0372534696859'\n",
       "\\item '21,1463199091024'\n",
       "\\item '21,2244897959184'\n",
       "\\item '21,2665406427221'\n",
       "\\item '21,414224952741'\n",
       "\\item '21,4532871972318'\n",
       "\\item '21,4902855137933'\n",
       "\\item '21,5138585105239'\n",
       "\\item '21,5450907971684'\n",
       "\\item '21,5510204081633'\n",
       "\\item '21,5645449137418'\n",
       "\\item '21,6049382716049'\n",
       "\\item '21,6333153055706'\n",
       "\\item '21,6441207075963'\n",
       "\\item '21,7051294327939'\n",
       "\\item '21,7775533392248'\n",
       "\\item '21,7994451050337'\n",
       "\\item '21,8870763653774'\n",
       "\\item '21,9135802469136'\n",
       "\\item '21,9671201814059'\n",
       "\\item '21,9713358572201'\n",
       "\\item '21,9773511187082'\n",
       "\\item '21,9898923652637'\n",
       "\\item '22,0317256849864'\n",
       "\\item '22,038567493113'\n",
       "\\item '22,0521901834341'\n",
       "\\item '22,0580511886839'\n",
       "\\item '22,1453287197232'\n",
       "\\item '22,1526465028355'\n",
       "\\item '22,2290619335864'\n",
       "\\item '22,3093564088697'\n",
       "\\item '22,3863142771225'\n",
       "\\item '22,4087867693473'\n",
       "\\item '22,4712087637714'\n",
       "\\item '22,5308641975309'\n",
       "\\item '22,5878330942279'\n",
       "\\item '22,7189744005842'\n",
       "\\item '22,7204383708109'\n",
       "\\item '22,7903289734443'\n",
       "\\item '22,8373702422145'\n",
       "\\item '22,8395061728395'\n",
       "\\item '22,8571428571429'\n",
       "\\item '22,8928199791883'\n",
       "\\item '22,9130330700044'\n",
       "\\item '22,9209710743802'\n",
       "\\item '22,9590876585494'\n",
       "\\item '22,9938271604938'\n",
       "\\item '23,0111768573307'\n",
       "\\item '23,0300453514739'\n",
       "\\item '23,0400201994698'\n",
       "\\item '23,0577256944444'\n",
       "\\item '23,1833910034602'\n",
       "\\item '23,301094832264'\n",
       "\\item '23,3066800530675'\n",
       "\\item '23,355636914531'\n",
       "\\item '23,3886865581877'\n",
       "\\item '23,4375'\n",
       "\\item '23,5078053259871'\n",
       "\\item '23,5294117647059'\n",
       "\\item '23,5883292204964'\n",
       "\\item '23,6244474927602'\n",
       "\\item '23,6614386154678'\n",
       "\\item '23,7228106518761'\n",
       "\\item '23,7399561723886'\n",
       "\\item '23,7654320987654'\n",
       "\\item '23,7812128418549'\n",
       "\\item '23,7953599048186'\n",
       "\\item '23,8702623906706'\n",
       "\\item '23,8884409806205'\n",
       "\\item '23,922422999701'\n",
       "\\item '23,9394809920521'\n",
       "\\item '23,9868703446535'\n",
       "\\item '24,0054869684499'\n",
       "\\item '24,0234375'\n",
       "\\item '24,0317093723667'\n",
       "\\item '24,034609838167'\n",
       "\\item '24,0754738109235'\n",
       "\\item '24,1126543209877'\n",
       "\\item '24,1588179685585'\n",
       "\\item '24,1671624033314'\n",
       "\\item '24,1684694429421'\n",
       "\\item '24,2202268431002'\n",
       "\\item '24,2214532871972'\n",
       "\\item '24,2586740719461'\n",
       "\\item '24,2802636142907'\n",
       "\\item '24,3141239657425'\n",
       "\\item '24,3374797187669'\n",
       "\\item '24,3827160493827'\n",
       "\\item '24,3865264441396'\n",
       "\\item '24,3910588392529'\n",
       "\\item '24,441802087462'\n",
       "\\item '24,4535684096124'\n",
       "\\item '24,4646016033724'\n",
       "\\item '24,4897959183673'\n",
       "\\item '24,515595463138'\n",
       "\\item '24,5351239669421'\n",
       "\\item '24,5674740484429'\n",
       "\\item '24,6181037747759'\n",
       "\\item '24,6770213383655'\n",
       "\\item '24,7675659198293'\n",
       "\\item '24,7736588441962'\n",
       "\\item '24,8015873015873'\n",
       "\\item '24,8163265306122'\n",
       "\\item '24,8445105462412'\n",
       "\\item '24,8456790123457'\n",
       "\\item '24,9134948096886'\n",
       "\\item '24,9739854318418'\n",
       "\\item '25,1023913330691'\n",
       "\\item '25,1278305332359'\n",
       "\\item '25,1359392633631'\n",
       "\\item '25,2493372048984'\n",
       "\\item '25,2801098592428'\n",
       "\\item '25,3069320474676'\n",
       "\\item '25,3515413737155'\n",
       "\\item '25,390625'\n",
       "\\item '25,5649539199596'\n",
       "\\item '25,6172839506173'\n",
       "\\item '25,6402429718263'\n",
       "\\item '25,6489176156766'\n",
       "\\item '25,6543723973825'\n",
       "\\item '25,6611520347784'\n",
       "\\item '25,6895619253651'\n",
       "\\item '25,7116620752984'\n",
       "\\item '25,8064516129032'\n",
       "\\item '25,8264462809917'\n",
       "\\item '25,8645124716553'\n",
       "\\item '25,9094569517874'\n",
       "\\item '25,9645421720962'\n",
       "\\item '26,0261748958953'\n",
       "\\item '26,0845208501103'\n",
       "\\item '26,0932752014797'\n",
       "\\item '26,1401228733459'\n",
       "\\item '26,1492768595041'\n",
       "\\item '26,1751945211374'\n",
       "\\item '26,218820861678'\n",
       "\\item '26,2595847484332'\n",
       "\\item '26,2975778546713'\n",
       "\\item '26,3036189154816'\n",
       "\\item '26,3150681176503'\n",
       "\\item '26,3656030286641'\n",
       "\\item '26,3958034013833'\n",
       "\\item '26,4380708219837'\n",
       "\\item '26,4489795918367'\n",
       "\\item '26,4608241816219'\n",
       "\\item '26,4721074380165'\n",
       "\\item '26,4915082014806'\n",
       "\\item '26,528510346119'\n",
       "\\item '26,5337588296461'\n",
       "\\item '26,5625'\n",
       "\\item '26,5668397536529'\n",
       "\\item '26,609712545079'\n",
       "\\item '26,6193433895297'\n",
       "\\item '26,7228725206067'\n",
       "\\item '26,7538644470868'\n",
       "\\item '26,8923231381548'\n",
       "\\item '26,897670187097'\n",
       "\\item '26,9556811421773'\n",
       "\\item '26,9896193771626'\n",
       "\\item '27,0716052924092'\n",
       "\\item '27,281746031746'\n",
       "\\item '27,3356401384083'\n",
       "\\item '27,3588454567217'\n",
       "\\item '27,3909185602407'\n",
       "\\item '27,3981756824485'\n",
       "\\item '27,4144536926939'\n",
       "\\item '27,458654210327'\n",
       "\\item '27,4648107112762'\n",
       "\\item '27,4691358024691'\n",
       "\\item '27,5802003193497'\n",
       "\\item '27,6094517551723'\n",
       "\\item '27,681660899654'\n",
       "\\item '27,7274784970575'\n",
       "\\item '27,7551020408163'\n",
       "\\item '27,8718238090353'\n",
       "\\item '27,8851873884593'\n",
       "\\item '28,0276816608997'\n",
       "\\item '28,0403781445281'\n",
       "\\item '28,0557057869118'\n",
       "\\item '28,0889910306745'\n",
       "\\item '28,1969212010364'\n",
       "\\item '28,2312228217563'\n",
       "\\item '28,378215191402'\n",
       "\\item '28,4081841105685'\n",
       "\\item '28,5032139577594'\n",
       "\\item '28,515625'\n",
       "\\item '28,5604437853573'\n",
       "\\item '28,6047649516354'\n",
       "\\item '28,6726260752235'\n",
       "\\item '28,6801110976935'\n",
       "\\item '28,7267877295578'\n",
       "\\item '28,7319214876033'\n",
       "\\item '28,734672057202'\n",
       "\\item '28,734693877551'\n",
       "\\item '28,8754400537953'\n",
       "\\item '28,9590001524158'\n",
       "\\item '29,0123456790123'\n",
       "\\item '29,0253113198714'\n",
       "\\item '29,0547520661157'\n",
       "\\item '29,0606071215994'\n",
       "\\item '29,0687732977668'\n",
       "\\item '29,2633402012601'\n",
       "\\item '29,3198564870182'\n",
       "\\item '29,3847566574839'\n",
       "\\item '29,3962214295151'\n",
       "\\item '29,4117647058824'\n",
       "\\item '29,7265160523187'\n",
       "\\item '29,7458085451595'\n",
       "\\item '29,7608627148909'\n",
       "\\item '29,8605512257756'\n",
       "\\item '29,9148188209843'\n",
       "\\item '29,9357208448118'\n",
       "\\item '30,0568106751222'\n",
       "\\item '30,0838290968091'\n",
       "\\item '30,1194019147334'\n",
       "\\item '30,1895906291511'\n",
       "\\item '30,2469135802469'\n",
       "\\item '30,3460743801653'\n",
       "\\item '30,3673469387755'\n",
       "\\item '30,4577622502911'\n",
       "\\item '30,4779662232421'\n",
       "\\item '30,6689049586777'\n",
       "\\item '30,818540433925'\n",
       "\\item '30,9284310324893'\n",
       "\\item '31,0137051039698'\n",
       "\\item '31,0204081632653'\n",
       "\\item '31,1704652692385'\n",
       "\\item '31,2091740455799'\n",
       "\\item '31,3779891663364'\n",
       "\\item '31,7417889003976'\n",
       "\\item '31,9507898115799'\n",
       "\\item '32,1609161213563'\n",
       "\\item '32,2530864197531'\n",
       "\\item '32,4556777151203'\n",
       "\\item '32,5618850880571'\n",
       "\\item '32,6171875'\n",
       "\\item '32,7186198691255'\n",
       "\\item '33,5175736961451'\n",
       "\\item '33,6592970521542'\n",
       "\\item '33,7148803329865'\n",
       "\\item '33,7370242214533'\n",
       "\\item '33,8198647205411'\n",
       "\\item '34,4221736168382'\n",
       "\\item '34,9635796045786'\n",
       "\\item '34,9751416348711'\n",
       "\\item '35,2043036272299'\n",
       "\\item '35,5998576005696'\n",
       "\\item '36,1323346757499'\n",
       "\\item '37,109375'\n",
       "\\item '37,1822606814494'\n",
       "\\item '38,054798910431'\n",
       "\\item '38,0622837370242'\n",
       "\\item '39,4520893826537'\n",
       "\\item '41,015625'\n",
       "\\end{enumerate*}\n"
      ],
      "text/markdown": [
       "1. 22,9938271604938\n",
       "2. 28,515625\n",
       "3. 25,1278305332359\n",
       "4. 28,7267877295578\n",
       "5. 20,3244382551093\n",
       "6. 21,5138585105239\n",
       "7. 23,3886865581877\n",
       "8. 21,4902855137933\n",
       "9. 22,9209710743802\n",
       "10. &lt;NA&gt;\n",
       "\n",
       "\n",
       "\n",
       "**Levels**: 1. '14,3425723403492'\n",
       "2. '15,9438775510204'\n",
       "3. '16,1842749068463'\n",
       "4. '16,3265306122449'\n",
       "5. '16,9836956521739'\n",
       "6. '17,110020661157'\n",
       "7. '17,578125'\n",
       "8. '17,7154195011338'\n",
       "9. '17,7462289263531'\n",
       "10. '17,981667470725'\n",
       "11. '18,0840995132504'\n",
       "12. '18,1448686311511'\n",
       "13. '18,3654729109275'\n",
       "14. '18,491124260355'\n",
       "15. '18,6011904761905'\n",
       "16. '18,8092062514962'\n",
       "17. '18,8267934998018'\n",
       "18. '18,9035916824197'\n",
       "19. '18,9291508923743'\n",
       "20. '18,9370029036738'\n",
       "21. '19,0039083509627'\n",
       "22. '19,0450733402386'\n",
       "23. '19,0519737844841'\n",
       "24. '19,1326530612245'\n",
       "25. '19,1570881226054'\n",
       "26. '19,2335607490202'\n",
       "27. '19,252619618735'\n",
       "28. '19,379197433927'\n",
       "29. '19,383492039595'\n",
       "30. '19,53125'\n",
       "31. '19,6071566121634'\n",
       "32. '19,6232339089482'\n",
       "33. '19,6282647011697'\n",
       "34. '19,6751668531307'\n",
       "35. '19,7210369679802'\n",
       "36. '19,7896975425331'\n",
       "37. '19,8176773682124'\n",
       "38. '19,8178444931692'\n",
       "39. '19,8838530488575'\n",
       "40. '20,0065693212697'\n",
       "41. '20,0288415318058'\n",
       "42. '20,0773349196907'\n",
       "43. '20,0882752376641'\n",
       "44. '20,1091640333238'\n",
       "45. '20,1955782312925'\n",
       "46. '20,2335530119089'\n",
       "47. '20,2448979591837'\n",
       "48. '20,3125'\n",
       "49. '20,3222528668892'\n",
       "50. '20,3244382551093'\n",
       "51. '20,467458677686'\n",
       "52. '20,4782666138195'\n",
       "53. '20,5078125'\n",
       "54. '20,5498866213152'\n",
       "55. '20,5693296602388'\n",
       "56. '20,617447739252'\n",
       "57. '20,7008167413151'\n",
       "58. '20,7967298935064'\n",
       "59. '20,8085612366231'\n",
       "60. '20,8307031940412'\n",
       "61. '20,8325296091972'\n",
       "62. '20,8979591836735'\n",
       "63. '20,9571711629325'\n",
       "64. '20,9737085480248'\n",
       "65. '21,0076677987465'\n",
       "66. '21,0372534696859'\n",
       "67. '21,1463199091024'\n",
       "68. '21,2244897959184'\n",
       "69. '21,2665406427221'\n",
       "70. '21,414224952741'\n",
       "71. '21,4532871972318'\n",
       "72. '21,4902855137933'\n",
       "73. '21,5138585105239'\n",
       "74. '21,5450907971684'\n",
       "75. '21,5510204081633'\n",
       "76. '21,5645449137418'\n",
       "77. '21,6049382716049'\n",
       "78. '21,6333153055706'\n",
       "79. '21,6441207075963'\n",
       "80. '21,7051294327939'\n",
       "81. '21,7775533392248'\n",
       "82. '21,7994451050337'\n",
       "83. '21,8870763653774'\n",
       "84. '21,9135802469136'\n",
       "85. '21,9671201814059'\n",
       "86. '21,9713358572201'\n",
       "87. '21,9773511187082'\n",
       "88. '21,9898923652637'\n",
       "89. '22,0317256849864'\n",
       "90. '22,038567493113'\n",
       "91. '22,0521901834341'\n",
       "92. '22,0580511886839'\n",
       "93. '22,1453287197232'\n",
       "94. '22,1526465028355'\n",
       "95. '22,2290619335864'\n",
       "96. '22,3093564088697'\n",
       "97. '22,3863142771225'\n",
       "98. '22,4087867693473'\n",
       "99. '22,4712087637714'\n",
       "100. '22,5308641975309'\n",
       "101. '22,5878330942279'\n",
       "102. '22,7189744005842'\n",
       "103. '22,7204383708109'\n",
       "104. '22,7903289734443'\n",
       "105. '22,8373702422145'\n",
       "106. '22,8395061728395'\n",
       "107. '22,8571428571429'\n",
       "108. '22,8928199791883'\n",
       "109. '22,9130330700044'\n",
       "110. '22,9209710743802'\n",
       "111. '22,9590876585494'\n",
       "112. '22,9938271604938'\n",
       "113. '23,0111768573307'\n",
       "114. '23,0300453514739'\n",
       "115. '23,0400201994698'\n",
       "116. '23,0577256944444'\n",
       "117. '23,1833910034602'\n",
       "118. '23,301094832264'\n",
       "119. '23,3066800530675'\n",
       "120. '23,355636914531'\n",
       "121. '23,3886865581877'\n",
       "122. '23,4375'\n",
       "123. '23,5078053259871'\n",
       "124. '23,5294117647059'\n",
       "125. '23,5883292204964'\n",
       "126. '23,6244474927602'\n",
       "127. '23,6614386154678'\n",
       "128. '23,7228106518761'\n",
       "129. '23,7399561723886'\n",
       "130. '23,7654320987654'\n",
       "131. '23,7812128418549'\n",
       "132. '23,7953599048186'\n",
       "133. '23,8702623906706'\n",
       "134. '23,8884409806205'\n",
       "135. '23,922422999701'\n",
       "136. '23,9394809920521'\n",
       "137. '23,9868703446535'\n",
       "138. '24,0054869684499'\n",
       "139. '24,0234375'\n",
       "140. '24,0317093723667'\n",
       "141. '24,034609838167'\n",
       "142. '24,0754738109235'\n",
       "143. '24,1126543209877'\n",
       "144. '24,1588179685585'\n",
       "145. '24,1671624033314'\n",
       "146. '24,1684694429421'\n",
       "147. '24,2202268431002'\n",
       "148. '24,2214532871972'\n",
       "149. '24,2586740719461'\n",
       "150. '24,2802636142907'\n",
       "151. '24,3141239657425'\n",
       "152. '24,3374797187669'\n",
       "153. '24,3827160493827'\n",
       "154. '24,3865264441396'\n",
       "155. '24,3910588392529'\n",
       "156. '24,441802087462'\n",
       "157. '24,4535684096124'\n",
       "158. '24,4646016033724'\n",
       "159. '24,4897959183673'\n",
       "160. '24,515595463138'\n",
       "161. '24,5351239669421'\n",
       "162. '24,5674740484429'\n",
       "163. '24,6181037747759'\n",
       "164. '24,6770213383655'\n",
       "165. '24,7675659198293'\n",
       "166. '24,7736588441962'\n",
       "167. '24,8015873015873'\n",
       "168. '24,8163265306122'\n",
       "169. '24,8445105462412'\n",
       "170. '24,8456790123457'\n",
       "171. '24,9134948096886'\n",
       "172. '24,9739854318418'\n",
       "173. '25,1023913330691'\n",
       "174. '25,1278305332359'\n",
       "175. '25,1359392633631'\n",
       "176. '25,2493372048984'\n",
       "177. '25,2801098592428'\n",
       "178. '25,3069320474676'\n",
       "179. '25,3515413737155'\n",
       "180. '25,390625'\n",
       "181. '25,5649539199596'\n",
       "182. '25,6172839506173'\n",
       "183. '25,6402429718263'\n",
       "184. '25,6489176156766'\n",
       "185. '25,6543723973825'\n",
       "186. '25,6611520347784'\n",
       "187. '25,6895619253651'\n",
       "188. '25,7116620752984'\n",
       "189. '25,8064516129032'\n",
       "190. '25,8264462809917'\n",
       "191. '25,8645124716553'\n",
       "192. '25,9094569517874'\n",
       "193. '25,9645421720962'\n",
       "194. '26,0261748958953'\n",
       "195. '26,0845208501103'\n",
       "196. '26,0932752014797'\n",
       "197. '26,1401228733459'\n",
       "198. '26,1492768595041'\n",
       "199. '26,1751945211374'\n",
       "200. '26,218820861678'\n",
       "201. '26,2595847484332'\n",
       "202. '26,2975778546713'\n",
       "203. '26,3036189154816'\n",
       "204. '26,3150681176503'\n",
       "205. '26,3656030286641'\n",
       "206. '26,3958034013833'\n",
       "207. '26,4380708219837'\n",
       "208. '26,4489795918367'\n",
       "209. '26,4608241816219'\n",
       "210. '26,4721074380165'\n",
       "211. '26,4915082014806'\n",
       "212. '26,528510346119'\n",
       "213. '26,5337588296461'\n",
       "214. '26,5625'\n",
       "215. '26,5668397536529'\n",
       "216. '26,609712545079'\n",
       "217. '26,6193433895297'\n",
       "218. '26,7228725206067'\n",
       "219. '26,7538644470868'\n",
       "220. '26,8923231381548'\n",
       "221. '26,897670187097'\n",
       "222. '26,9556811421773'\n",
       "223. '26,9896193771626'\n",
       "224. '27,0716052924092'\n",
       "225. '27,281746031746'\n",
       "226. '27,3356401384083'\n",
       "227. '27,3588454567217'\n",
       "228. '27,3909185602407'\n",
       "229. '27,3981756824485'\n",
       "230. '27,4144536926939'\n",
       "231. '27,458654210327'\n",
       "232. '27,4648107112762'\n",
       "233. '27,4691358024691'\n",
       "234. '27,5802003193497'\n",
       "235. '27,6094517551723'\n",
       "236. '27,681660899654'\n",
       "237. '27,7274784970575'\n",
       "238. '27,7551020408163'\n",
       "239. '27,8718238090353'\n",
       "240. '27,8851873884593'\n",
       "241. '28,0276816608997'\n",
       "242. '28,0403781445281'\n",
       "243. '28,0557057869118'\n",
       "244. '28,0889910306745'\n",
       "245. '28,1969212010364'\n",
       "246. '28,2312228217563'\n",
       "247. '28,378215191402'\n",
       "248. '28,4081841105685'\n",
       "249. '28,5032139577594'\n",
       "250. '28,515625'\n",
       "251. '28,5604437853573'\n",
       "252. '28,6047649516354'\n",
       "253. '28,6726260752235'\n",
       "254. '28,6801110976935'\n",
       "255. '28,7267877295578'\n",
       "256. '28,7319214876033'\n",
       "257. '28,734672057202'\n",
       "258. '28,734693877551'\n",
       "259. '28,8754400537953'\n",
       "260. '28,9590001524158'\n",
       "261. '29,0123456790123'\n",
       "262. '29,0253113198714'\n",
       "263. '29,0547520661157'\n",
       "264. '29,0606071215994'\n",
       "265. '29,0687732977668'\n",
       "266. '29,2633402012601'\n",
       "267. '29,3198564870182'\n",
       "268. '29,3847566574839'\n",
       "269. '29,3962214295151'\n",
       "270. '29,4117647058824'\n",
       "271. '29,7265160523187'\n",
       "272. '29,7458085451595'\n",
       "273. '29,7608627148909'\n",
       "274. '29,8605512257756'\n",
       "275. '29,9148188209843'\n",
       "276. '29,9357208448118'\n",
       "277. '30,0568106751222'\n",
       "278. '30,0838290968091'\n",
       "279. '30,1194019147334'\n",
       "280. '30,1895906291511'\n",
       "281. '30,2469135802469'\n",
       "282. '30,3460743801653'\n",
       "283. '30,3673469387755'\n",
       "284. '30,4577622502911'\n",
       "285. '30,4779662232421'\n",
       "286. '30,6689049586777'\n",
       "287. '30,818540433925'\n",
       "288. '30,9284310324893'\n",
       "289. '31,0137051039698'\n",
       "290. '31,0204081632653'\n",
       "291. '31,1704652692385'\n",
       "292. '31,2091740455799'\n",
       "293. '31,3779891663364'\n",
       "294. '31,7417889003976'\n",
       "295. '31,9507898115799'\n",
       "296. '32,1609161213563'\n",
       "297. '32,2530864197531'\n",
       "298. '32,4556777151203'\n",
       "299. '32,5618850880571'\n",
       "300. '32,6171875'\n",
       "301. '32,7186198691255'\n",
       "302. '33,5175736961451'\n",
       "303. '33,6592970521542'\n",
       "304. '33,7148803329865'\n",
       "305. '33,7370242214533'\n",
       "306. '33,8198647205411'\n",
       "307. '34,4221736168382'\n",
       "308. '34,9635796045786'\n",
       "309. '34,9751416348711'\n",
       "310. '35,2043036272299'\n",
       "311. '35,5998576005696'\n",
       "312. '36,1323346757499'\n",
       "313. '37,109375'\n",
       "314. '37,1822606814494'\n",
       "315. '38,054798910431'\n",
       "316. '38,0622837370242'\n",
       "317. '39,4520893826537'\n",
       "318. '41,015625'\n",
       "\n",
       "\n"
      ],
      "text/plain": [
       " [1] 22,9938271604938 28,515625        25,1278305332359 28,7267877295578\n",
       " [5] 20,3244382551093 21,5138585105239 23,3886865581877 21,4902855137933\n",
       " [9] 22,9209710743802 <NA>            \n",
       "318 Levels: 14,3425723403492 15,9438775510204 ... 41,015625"
      ]
     },
     "metadata": {},
     "output_type": "display_data"
    }
   ],
   "source": [
    "ind=which(names(lung.data) == 'bmi')\n",
    "'Column index:'\n",
    "print(ind)\n",
    "'Column values rows 1 -> 10:'\n",
    "lung.data[1:10,ind]\n",
    "lung.data=lung.data[,-ind]"
   ]
  },
  {
   "cell_type": "markdown",
   "id": "e6cc0b74",
   "metadata": {},
   "source": [
    "Check the columns in the data frame again to confirm the 'bmi' column is no longer present"
   ]
  },
  {
   "cell_type": "code",
   "execution_count": 181,
   "id": "791a08a5",
   "metadata": {},
   "outputs": [
    {
     "data": {
      "text/html": [
       "<style>\n",
       ".list-inline {list-style: none; margin:0; padding: 0}\n",
       ".list-inline>li {display: inline-block}\n",
       ".list-inline>li:not(:last-child)::after {content: \"\\00b7\"; padding: 0 .5ex}\n",
       "</style>\n",
       "<ol class=list-inline><li>'study_id'</li><li>'gender'</li><li>'age'</li><li>'who3g'</li><li>'fev1pc_t0'</li><li>'dumsmok2'</li><li>'t_ct_loc'</li><li>'hist4g'</li><li>'countpet_all6g'</li><li>'countpet_mediast6g'</li><li>'tstage'</li><li>'nstage'</li><li>'stage'</li><li>'timing'</li><li>'group'</li><li>'yearrt'</li><li>'eqd2'</li><li>'ott'</li><li>'gtv1'</li><li>'tumorload_total'</li><li>'survmonth'</li><li>'survyear'</li><li>'deadstat'</li></ol>\n"
      ],
      "text/latex": [
       "\\begin{enumerate*}\n",
       "\\item 'study\\_id'\n",
       "\\item 'gender'\n",
       "\\item 'age'\n",
       "\\item 'who3g'\n",
       "\\item 'fev1pc\\_t0'\n",
       "\\item 'dumsmok2'\n",
       "\\item 't\\_ct\\_loc'\n",
       "\\item 'hist4g'\n",
       "\\item 'countpet\\_all6g'\n",
       "\\item 'countpet\\_mediast6g'\n",
       "\\item 'tstage'\n",
       "\\item 'nstage'\n",
       "\\item 'stage'\n",
       "\\item 'timing'\n",
       "\\item 'group'\n",
       "\\item 'yearrt'\n",
       "\\item 'eqd2'\n",
       "\\item 'ott'\n",
       "\\item 'gtv1'\n",
       "\\item 'tumorload\\_total'\n",
       "\\item 'survmonth'\n",
       "\\item 'survyear'\n",
       "\\item 'deadstat'\n",
       "\\end{enumerate*}\n"
      ],
      "text/markdown": [
       "1. 'study_id'\n",
       "2. 'gender'\n",
       "3. 'age'\n",
       "4. 'who3g'\n",
       "5. 'fev1pc_t0'\n",
       "6. 'dumsmok2'\n",
       "7. 't_ct_loc'\n",
       "8. 'hist4g'\n",
       "9. 'countpet_all6g'\n",
       "10. 'countpet_mediast6g'\n",
       "11. 'tstage'\n",
       "12. 'nstage'\n",
       "13. 'stage'\n",
       "14. 'timing'\n",
       "15. 'group'\n",
       "16. 'yearrt'\n",
       "17. 'eqd2'\n",
       "18. 'ott'\n",
       "19. 'gtv1'\n",
       "20. 'tumorload_total'\n",
       "21. 'survmonth'\n",
       "22. 'survyear'\n",
       "23. 'deadstat'\n",
       "\n",
       "\n"
      ],
      "text/plain": [
       " [1] \"study_id\"           \"gender\"             \"age\"               \n",
       " [4] \"who3g\"              \"fev1pc_t0\"          \"dumsmok2\"          \n",
       " [7] \"t_ct_loc\"           \"hist4g\"             \"countpet_all6g\"    \n",
       "[10] \"countpet_mediast6g\" \"tstage\"             \"nstage\"            \n",
       "[13] \"stage\"              \"timing\"             \"group\"             \n",
       "[16] \"yearrt\"             \"eqd2\"               \"ott\"               \n",
       "[19] \"gtv1\"               \"tumorload_total\"    \"survmonth\"         \n",
       "[22] \"survyear\"           \"deadstat\"          "
      ]
     },
     "metadata": {},
     "output_type": "display_data"
    }
   ],
   "source": [
    "names(lung.data)"
   ]
  },
  {
   "cell_type": "markdown",
   "id": "711dde4c",
   "metadata": {},
   "source": [
    "Repeat the process for the FEV variable and check missing data values again."
   ]
  },
  {
   "cell_type": "code",
   "execution_count": 182,
   "id": "9e9a8d5b",
   "metadata": {},
   "outputs": [
    {
     "data": {
      "text/html": [
       "<style>\n",
       ".list-inline {list-style: none; margin:0; padding: 0}\n",
       ".list-inline>li {display: inline-block}\n",
       ".list-inline>li:not(:last-child)::after {content: \"\\00b7\"; padding: 0 .5ex}\n",
       "</style>\n",
       "<ol class=list-inline><li>'study_id'</li><li>'gender'</li><li>'age'</li><li>'who3g'</li><li>'dumsmok2'</li><li>'t_ct_loc'</li><li>'hist4g'</li><li>'countpet_all6g'</li><li>'countpet_mediast6g'</li><li>'tstage'</li><li>'nstage'</li><li>'stage'</li><li>'timing'</li><li>'group'</li><li>'yearrt'</li><li>'eqd2'</li><li>'ott'</li><li>'gtv1'</li><li>'tumorload_total'</li><li>'survmonth'</li><li>'survyear'</li><li>'deadstat'</li></ol>\n"
      ],
      "text/latex": [
       "\\begin{enumerate*}\n",
       "\\item 'study\\_id'\n",
       "\\item 'gender'\n",
       "\\item 'age'\n",
       "\\item 'who3g'\n",
       "\\item 'dumsmok2'\n",
       "\\item 't\\_ct\\_loc'\n",
       "\\item 'hist4g'\n",
       "\\item 'countpet\\_all6g'\n",
       "\\item 'countpet\\_mediast6g'\n",
       "\\item 'tstage'\n",
       "\\item 'nstage'\n",
       "\\item 'stage'\n",
       "\\item 'timing'\n",
       "\\item 'group'\n",
       "\\item 'yearrt'\n",
       "\\item 'eqd2'\n",
       "\\item 'ott'\n",
       "\\item 'gtv1'\n",
       "\\item 'tumorload\\_total'\n",
       "\\item 'survmonth'\n",
       "\\item 'survyear'\n",
       "\\item 'deadstat'\n",
       "\\end{enumerate*}\n"
      ],
      "text/markdown": [
       "1. 'study_id'\n",
       "2. 'gender'\n",
       "3. 'age'\n",
       "4. 'who3g'\n",
       "5. 'dumsmok2'\n",
       "6. 't_ct_loc'\n",
       "7. 'hist4g'\n",
       "8. 'countpet_all6g'\n",
       "9. 'countpet_mediast6g'\n",
       "10. 'tstage'\n",
       "11. 'nstage'\n",
       "12. 'stage'\n",
       "13. 'timing'\n",
       "14. 'group'\n",
       "15. 'yearrt'\n",
       "16. 'eqd2'\n",
       "17. 'ott'\n",
       "18. 'gtv1'\n",
       "19. 'tumorload_total'\n",
       "20. 'survmonth'\n",
       "21. 'survyear'\n",
       "22. 'deadstat'\n",
       "\n",
       "\n"
      ],
      "text/plain": [
       " [1] \"study_id\"           \"gender\"             \"age\"               \n",
       " [4] \"who3g\"              \"dumsmok2\"           \"t_ct_loc\"          \n",
       " [7] \"hist4g\"             \"countpet_all6g\"     \"countpet_mediast6g\"\n",
       "[10] \"tstage\"             \"nstage\"             \"stage\"             \n",
       "[13] \"timing\"             \"group\"              \"yearrt\"            \n",
       "[16] \"eqd2\"               \"ott\"                \"gtv1\"              \n",
       "[19] \"tumorload_total\"    \"survmonth\"          \"survyear\"          \n",
       "[22] \"deadstat\"          "
      ]
     },
     "metadata": {},
     "output_type": "display_data"
    },
    {
     "data": {
      "image/png": "[encoded data removed]",
      "text/plain": [
       "plot without title"
      ]
     },
     "metadata": {
      "image/png": {
       "height": 420,
       "width": 420
      }
     },
     "output_type": "display_data"
    }
   ],
   "source": [
    "ind=which(names(lung.data) == 'fev1pc_t0')\n",
    "lung.data=lung.data[,-ind]\n",
    "names(lung.data)\n",
    "gg_miss_var(lung.data)"
   ]
  },
  {
   "cell_type": "markdown",
   "id": "915157e2",
   "metadata": {},
   "source": [
    "### Filter to variables used in the paper\n",
    "The model created by the paper uses: age, gender, performance status, tumour volume, positive lymph node status, T stage, overall treatment time, cheomotherapy timing, and EQD2 dose to the tumour to predict patient survival.\n",
    "\n",
    "We will further filter the variable to only include these columns and assign to a new data frame containing the independent of explanatory factors 'lung.data.ind'"
   ]
  },
  {
   "cell_type": "code",
   "execution_count": 183,
   "id": "bef3ed7c",
   "metadata": {},
   "outputs": [
    {
     "data": {
      "text/html": [
       "<table class=\"dataframe\">\n",
       "<caption>A data.frame: 6 × 11</caption>\n",
       "<thead>\n",
       "\t<tr><th></th><th scope=col>gender</th><th scope=col>age</th><th scope=col>who3g</th><th scope=col>countpet_all6g</th><th scope=col>tstage</th><th scope=col>nstage</th><th scope=col>timing</th><th scope=col>group</th><th scope=col>eqd2</th><th scope=col>ott</th><th scope=col>gtv1</th></tr>\n",
       "\t<tr><th></th><th scope=col>&lt;int&gt;</th><th scope=col>&lt;fct&gt;</th><th scope=col>&lt;int&gt;</th><th scope=col>&lt;int&gt;</th><th scope=col>&lt;int&gt;</th><th scope=col>&lt;int&gt;</th><th scope=col>&lt;int&gt;</th><th scope=col>&lt;int&gt;</th><th scope=col>&lt;fct&gt;</th><th scope=col>&lt;int&gt;</th><th scope=col>&lt;fct&gt;</th></tr>\n",
       "</thead>\n",
       "<tbody>\n",
       "\t<tr><th scope=row>1</th><td>1</td><td>63,1567419575633</td><td>2</td><td>4</td><td> 4</td><td>4</td><td>3</td><td>4</td><td>53,125</td><td>28</td><td>192,86          </td></tr>\n",
       "\t<tr><th scope=row>2</th><td>2</td><td>66,3052703627652</td><td>2</td><td>4</td><td> 4</td><td>3</td><td>3</td><td>4</td><td>55,125</td><td>32</td><td>154,93          </td></tr>\n",
       "\t<tr><th scope=row>3</th><td>1</td><td>58,1984941820671</td><td>1</td><td>1</td><td> 4</td><td>1</td><td>3</td><td>4</td><td>65,125</td><td>32</td><td>85,07           </td></tr>\n",
       "\t<tr><th scope=row>4</th><td>2</td><td>63,7809719370294</td><td>2</td><td>6</td><td>NA</td><td>4</td><td>3</td><td>4</td><td>63,125</td><td>36</td><td>98,17           </td></tr>\n",
       "\t<tr><th scope=row>5</th><td>1</td><td>59,4140999315537</td><td>1</td><td>3</td><td> 2</td><td>3</td><td>3</td><td>4</td><td>65,125</td><td>36</td><td>62,89           </td></tr>\n",
       "\t<tr><th scope=row>6</th><td>1</td><td>49,2594113620808</td><td>2</td><td>3</td><td>NA</td><td>3</td><td>3</td><td>4</td><td>63,125</td><td>35</td><td>37,8300018310547</td></tr>\n",
       "</tbody>\n",
       "</table>\n"
      ],
      "text/latex": [
       "A data.frame: 6 × 11\n",
       "\\begin{tabular}{r|lllllllllll}\n",
       "  & gender & age & who3g & countpet\\_all6g & tstage & nstage & timing & group & eqd2 & ott & gtv1\\\\\n",
       "  & <int> & <fct> & <int> & <int> & <int> & <int> & <int> & <int> & <fct> & <int> & <fct>\\\\\n",
       "\\hline\n",
       "\t1 & 1 & 63,1567419575633 & 2 & 4 &  4 & 4 & 3 & 4 & 53,125 & 28 & 192,86          \\\\\n",
       "\t2 & 2 & 66,3052703627652 & 2 & 4 &  4 & 3 & 3 & 4 & 55,125 & 32 & 154,93          \\\\\n",
       "\t3 & 1 & 58,1984941820671 & 1 & 1 &  4 & 1 & 3 & 4 & 65,125 & 32 & 85,07           \\\\\n",
       "\t4 & 2 & 63,7809719370294 & 2 & 6 & NA & 4 & 3 & 4 & 63,125 & 36 & 98,17           \\\\\n",
       "\t5 & 1 & 59,4140999315537 & 1 & 3 &  2 & 3 & 3 & 4 & 65,125 & 36 & 62,89           \\\\\n",
       "\t6 & 1 & 49,2594113620808 & 2 & 3 & NA & 3 & 3 & 4 & 63,125 & 35 & 37,8300018310547\\\\\n",
       "\\end{tabular}\n"
      ],
      "text/markdown": [
       "\n",
       "A data.frame: 6 × 11\n",
       "\n",
       "| <!--/--> | gender &lt;int&gt; | age &lt;fct&gt; | who3g &lt;int&gt; | countpet_all6g &lt;int&gt; | tstage &lt;int&gt; | nstage &lt;int&gt; | timing &lt;int&gt; | group &lt;int&gt; | eqd2 &lt;fct&gt; | ott &lt;int&gt; | gtv1 &lt;fct&gt; |\n",
       "|---|---|---|---|---|---|---|---|---|---|---|---|\n",
       "| 1 | 1 | 63,1567419575633 | 2 | 4 |  4 | 4 | 3 | 4 | 53,125 | 28 | 192,86           |\n",
       "| 2 | 2 | 66,3052703627652 | 2 | 4 |  4 | 3 | 3 | 4 | 55,125 | 32 | 154,93           |\n",
       "| 3 | 1 | 58,1984941820671 | 1 | 1 |  4 | 1 | 3 | 4 | 65,125 | 32 | 85,07            |\n",
       "| 4 | 2 | 63,7809719370294 | 2 | 6 | NA | 4 | 3 | 4 | 63,125 | 36 | 98,17            |\n",
       "| 5 | 1 | 59,4140999315537 | 1 | 3 |  2 | 3 | 3 | 4 | 65,125 | 36 | 62,89            |\n",
       "| 6 | 1 | 49,2594113620808 | 2 | 3 | NA | 3 | 3 | 4 | 63,125 | 35 | 37,8300018310547 |\n",
       "\n"
      ],
      "text/plain": [
       "  gender age              who3g countpet_all6g tstage nstage timing group\n",
       "1 1      63,1567419575633 2     4               4     4      3      4    \n",
       "2 2      66,3052703627652 2     4               4     3      3      4    \n",
       "3 1      58,1984941820671 1     1               4     1      3      4    \n",
       "4 2      63,7809719370294 2     6              NA     4      3      4    \n",
       "5 1      59,4140999315537 1     3               2     3      3      4    \n",
       "6 1      49,2594113620808 2     3              NA     3      3      4    \n",
       "  eqd2   ott gtv1            \n",
       "1 53,125 28  192,86          \n",
       "2 55,125 32  154,93          \n",
       "3 65,125 32  85,07           \n",
       "4 63,125 36  98,17           \n",
       "5 65,125 36  62,89           \n",
       "6 63,125 35  37,8300018310547"
      ]
     },
     "metadata": {},
     "output_type": "display_data"
    }
   ],
   "source": [
    "testExpVars=c(\"gender\",\"age\",\"who3g\",\"countpet_all6g\",\"tstage\",\"nstage\",\"timing\",\"group\",\"eqd2\",\"ott\",\"gtv1\")\n",
    "lung.data.ind=lung.data[,which(names(lung.data) %in% testExpVars)]\n",
    "head(lung.data.ind)"
   ]
  },
  {
   "cell_type": "markdown",
   "id": "a8790084",
   "metadata": {},
   "source": [
    "### Impute remaining missing data values\n",
    "We will impute the remaining missing values. The simplest way of doing this is to replace all missing values for each variable with the mean or median of that variable. We can do this by looping over each variable (column) and using the `mean()` or `median()` commands. \n",
    "\n",
    "1. Loop over each column using its index\n",
    "2. Check if there is any missing data by summing the number of N/A entries for each column using `is.na()`\n",
    "3. Replace the rows in that column where the entry is N/A with the median\n",
    "\n",
    "Note that there are many more sophistoicated imputation techniques available. "
   ]
  },
  {
   "cell_type": "code",
   "execution_count": 187,
   "id": "50e6a1cd",
   "metadata": {},
   "outputs": [],
   "source": [
    "for(i in 1:ncol(lung.data.ind)){\n",
    "  if(sum(is.na(lung.data.ind[,i]))>0){\n",
    "    lung.data.ind[is.na(lung.data.ind[,i]),i]=median(lung.data.ind[,i],na.rm=TRUE)\n",
    "  }\n",
    "}"
   ]
  },
  {
   "cell_type": "markdown",
   "id": "9c744e0c",
   "metadata": {},
   "source": [
    "This gives an error on the first run through:\n",
    "<img src=\"images/factorError.png\">\n",
    "This error is caused by trying to find the median of a factor - a categorical variable for which the concept of median has no meaning. We can check which by referring to the output of the `head()` command above. It is unlikely that 'age', 'eqd2' and 'gtv1' are supposed to be an ordinal variables. Again looking at the output of `head()` we can see that, probably as the data originates in Europe, the decimal points have been written in the csv as commas. We need to process the data to clean this up. We can convert these to numeric types."
   ]
  },
  {
   "cell_type": "code",
   "execution_count": 186,
   "id": "ed31efdc",
   "metadata": {},
   "outputs": [
    {
     "data": {
      "text/html": [
       "<table class=\"dataframe\">\n",
       "<caption>A data.frame: 6 × 11</caption>\n",
       "<thead>\n",
       "\t<tr><th></th><th scope=col>gender</th><th scope=col>age</th><th scope=col>who3g</th><th scope=col>countpet_all6g</th><th scope=col>tstage</th><th scope=col>nstage</th><th scope=col>timing</th><th scope=col>group</th><th scope=col>eqd2</th><th scope=col>ott</th><th scope=col>gtv1</th></tr>\n",
       "\t<tr><th></th><th scope=col>&lt;int&gt;</th><th scope=col>&lt;dbl&gt;</th><th scope=col>&lt;dbl&gt;</th><th scope=col>&lt;dbl&gt;</th><th scope=col>&lt;dbl&gt;</th><th scope=col>&lt;dbl&gt;</th><th scope=col>&lt;int&gt;</th><th scope=col>&lt;int&gt;</th><th scope=col>&lt;dbl&gt;</th><th scope=col>&lt;int&gt;</th><th scope=col>&lt;dbl&gt;</th></tr>\n",
       "</thead>\n",
       "<tbody>\n",
       "\t<tr><th scope=row>1</th><td>1</td><td>63.15674</td><td>2</td><td>4</td><td>4</td><td>4</td><td>3</td><td>4</td><td>53.125</td><td>28</td><td>192.86</td></tr>\n",
       "\t<tr><th scope=row>2</th><td>2</td><td>66.30527</td><td>2</td><td>4</td><td>4</td><td>3</td><td>3</td><td>4</td><td>55.125</td><td>32</td><td>154.93</td></tr>\n",
       "\t<tr><th scope=row>3</th><td>1</td><td>58.19849</td><td>1</td><td>1</td><td>4</td><td>1</td><td>3</td><td>4</td><td>65.125</td><td>32</td><td> 85.07</td></tr>\n",
       "\t<tr><th scope=row>4</th><td>2</td><td>63.78097</td><td>2</td><td>6</td><td>3</td><td>4</td><td>3</td><td>4</td><td>63.125</td><td>36</td><td> 98.17</td></tr>\n",
       "\t<tr><th scope=row>5</th><td>1</td><td>59.41410</td><td>1</td><td>3</td><td>2</td><td>3</td><td>3</td><td>4</td><td>65.125</td><td>36</td><td> 62.89</td></tr>\n",
       "\t<tr><th scope=row>6</th><td>1</td><td>49.25941</td><td>2</td><td>3</td><td>3</td><td>3</td><td>3</td><td>4</td><td>63.125</td><td>35</td><td> 37.83</td></tr>\n",
       "</tbody>\n",
       "</table>\n"
      ],
      "text/latex": [
       "A data.frame: 6 × 11\n",
       "\\begin{tabular}{r|lllllllllll}\n",
       "  & gender & age & who3g & countpet\\_all6g & tstage & nstage & timing & group & eqd2 & ott & gtv1\\\\\n",
       "  & <int> & <dbl> & <dbl> & <dbl> & <dbl> & <dbl> & <int> & <int> & <dbl> & <int> & <dbl>\\\\\n",
       "\\hline\n",
       "\t1 & 1 & 63.15674 & 2 & 4 & 4 & 4 & 3 & 4 & 53.125 & 28 & 192.86\\\\\n",
       "\t2 & 2 & 66.30527 & 2 & 4 & 4 & 3 & 3 & 4 & 55.125 & 32 & 154.93\\\\\n",
       "\t3 & 1 & 58.19849 & 1 & 1 & 4 & 1 & 3 & 4 & 65.125 & 32 &  85.07\\\\\n",
       "\t4 & 2 & 63.78097 & 2 & 6 & 3 & 4 & 3 & 4 & 63.125 & 36 &  98.17\\\\\n",
       "\t5 & 1 & 59.41410 & 1 & 3 & 2 & 3 & 3 & 4 & 65.125 & 36 &  62.89\\\\\n",
       "\t6 & 1 & 49.25941 & 2 & 3 & 3 & 3 & 3 & 4 & 63.125 & 35 &  37.83\\\\\n",
       "\\end{tabular}\n"
      ],
      "text/markdown": [
       "\n",
       "A data.frame: 6 × 11\n",
       "\n",
       "| <!--/--> | gender &lt;int&gt; | age &lt;dbl&gt; | who3g &lt;dbl&gt; | countpet_all6g &lt;dbl&gt; | tstage &lt;dbl&gt; | nstage &lt;dbl&gt; | timing &lt;int&gt; | group &lt;int&gt; | eqd2 &lt;dbl&gt; | ott &lt;int&gt; | gtv1 &lt;dbl&gt; |\n",
       "|---|---|---|---|---|---|---|---|---|---|---|---|\n",
       "| 1 | 1 | 63.15674 | 2 | 4 | 4 | 4 | 3 | 4 | 53.125 | 28 | 192.86 |\n",
       "| 2 | 2 | 66.30527 | 2 | 4 | 4 | 3 | 3 | 4 | 55.125 | 32 | 154.93 |\n",
       "| 3 | 1 | 58.19849 | 1 | 1 | 4 | 1 | 3 | 4 | 65.125 | 32 |  85.07 |\n",
       "| 4 | 2 | 63.78097 | 2 | 6 | 3 | 4 | 3 | 4 | 63.125 | 36 |  98.17 |\n",
       "| 5 | 1 | 59.41410 | 1 | 3 | 2 | 3 | 3 | 4 | 65.125 | 36 |  62.89 |\n",
       "| 6 | 1 | 49.25941 | 2 | 3 | 3 | 3 | 3 | 4 | 63.125 | 35 |  37.83 |\n",
       "\n"
      ],
      "text/plain": [
       "  gender age      who3g countpet_all6g tstage nstage timing group eqd2   ott\n",
       "1 1      63.15674 2     4              4      4      3      4     53.125 28 \n",
       "2 2      66.30527 2     4              4      3      3      4     55.125 32 \n",
       "3 1      58.19849 1     1              4      1      3      4     65.125 32 \n",
       "4 2      63.78097 2     6              3      4      3      4     63.125 36 \n",
       "5 1      59.41410 1     3              2      3      3      4     65.125 36 \n",
       "6 1      49.25941 2     3              3      3      3      4     63.125 35 \n",
       "  gtv1  \n",
       "1 192.86\n",
       "2 154.93\n",
       "3  85.07\n",
       "4  98.17\n",
       "5  62.89\n",
       "6  37.83"
      ]
     },
     "metadata": {},
     "output_type": "display_data"
    }
   ],
   "source": [
    "lung.data.ind$age=as.numeric(gsub(',','.',lung.data.ind$age))\n",
    "lung.data.ind$eqd2=as.numeric(gsub(',','.',lung.data.ind$eqd2))\n",
    "lung.data.ind$gtv1=as.numeric(gsub(',','.',lung.data.ind$gtv1))\n",
    "head(lung.data.ind)"
   ]
  },
  {
   "cell_type": "markdown",
   "id": "e4b10f95",
   "metadata": {},
   "source": [
    "Try the imputation step above again and check to see if there are any missing data now"
   ]
  },
  {
   "cell_type": "code",
   "execution_count": 188,
   "id": "744f69ef",
   "metadata": {},
   "outputs": [
    {
     "data": {
      "image/png": "[encoded data removed]",
      "text/plain": [
       "plot without title"
      ]
     },
     "metadata": {
      "image/png": {
       "height": 420,
       "width": 420
      }
     },
     "output_type": "display_data"
    }
   ],
   "source": [
    "gg_miss_var(lung.data.ind)"
   ]
  },
  {
   "cell_type": "markdown",
   "id": "a7e3d9c3",
   "metadata": {},
   "source": [
    "We then need to change those variables that should be categorical and ordinal data type as necessary. An ordinal variable is a categorical variable in which the different categories are ordered (e.g. T Stage 1< 2 < 3 < 4). Ordinal variables can be assigned by specifying the order as part of the argument to the `factor()` function. Check the output of the head function again to notice the difference between nominal categorical (unordered) **\\<fct\\>** and ordinal **\\<ord\\>** variable types. You can refer to the variable descriptions given with the data on cancerdata.org to understand how the data is coded (e.g. N stage is coded as 1=N0, 2=N1, 3=N2, 4=N3, 5=Nx)."
   ]
  },
  {
   "cell_type": "code",
   "execution_count": 189,
   "id": "e646df22",
   "metadata": {},
   "outputs": [
    {
     "data": {
      "text/html": [
       "<table class=\"dataframe\">\n",
       "<caption>A data.frame: 6 × 11</caption>\n",
       "<thead>\n",
       "\t<tr><th></th><th scope=col>gender</th><th scope=col>age</th><th scope=col>who3g</th><th scope=col>countpet_all6g</th><th scope=col>tstage</th><th scope=col>nstage</th><th scope=col>timing</th><th scope=col>group</th><th scope=col>eqd2</th><th scope=col>ott</th><th scope=col>gtv1</th></tr>\n",
       "\t<tr><th></th><th scope=col>&lt;fct&gt;</th><th scope=col>&lt;dbl&gt;</th><th scope=col>&lt;ord&gt;</th><th scope=col>&lt;dbl&gt;</th><th scope=col>&lt;ord&gt;</th><th scope=col>&lt;ord&gt;</th><th scope=col>&lt;fct&gt;</th><th scope=col>&lt;int&gt;</th><th scope=col>&lt;dbl&gt;</th><th scope=col>&lt;int&gt;</th><th scope=col>&lt;dbl&gt;</th></tr>\n",
       "</thead>\n",
       "<tbody>\n",
       "\t<tr><th scope=row>1</th><td>1</td><td>63.15674</td><td>2</td><td>4</td><td>4</td><td>4</td><td>3</td><td>4</td><td>53.125</td><td>28</td><td>192.86</td></tr>\n",
       "\t<tr><th scope=row>2</th><td>2</td><td>66.30527</td><td>2</td><td>4</td><td>4</td><td>3</td><td>3</td><td>4</td><td>55.125</td><td>32</td><td>154.93</td></tr>\n",
       "\t<tr><th scope=row>3</th><td>1</td><td>58.19849</td><td>1</td><td>1</td><td>4</td><td>1</td><td>3</td><td>4</td><td>65.125</td><td>32</td><td> 85.07</td></tr>\n",
       "\t<tr><th scope=row>4</th><td>2</td><td>63.78097</td><td>2</td><td>6</td><td>3</td><td>4</td><td>3</td><td>4</td><td>63.125</td><td>36</td><td> 98.17</td></tr>\n",
       "\t<tr><th scope=row>5</th><td>1</td><td>59.41410</td><td>1</td><td>3</td><td>2</td><td>3</td><td>3</td><td>4</td><td>65.125</td><td>36</td><td> 62.89</td></tr>\n",
       "\t<tr><th scope=row>6</th><td>1</td><td>49.25941</td><td>2</td><td>3</td><td>3</td><td>3</td><td>3</td><td>4</td><td>63.125</td><td>35</td><td> 37.83</td></tr>\n",
       "</tbody>\n",
       "</table>\n"
      ],
      "text/latex": [
       "A data.frame: 6 × 11\n",
       "\\begin{tabular}{r|lllllllllll}\n",
       "  & gender & age & who3g & countpet\\_all6g & tstage & nstage & timing & group & eqd2 & ott & gtv1\\\\\n",
       "  & <fct> & <dbl> & <ord> & <dbl> & <ord> & <ord> & <fct> & <int> & <dbl> & <int> & <dbl>\\\\\n",
       "\\hline\n",
       "\t1 & 1 & 63.15674 & 2 & 4 & 4 & 4 & 3 & 4 & 53.125 & 28 & 192.86\\\\\n",
       "\t2 & 2 & 66.30527 & 2 & 4 & 4 & 3 & 3 & 4 & 55.125 & 32 & 154.93\\\\\n",
       "\t3 & 1 & 58.19849 & 1 & 1 & 4 & 1 & 3 & 4 & 65.125 & 32 &  85.07\\\\\n",
       "\t4 & 2 & 63.78097 & 2 & 6 & 3 & 4 & 3 & 4 & 63.125 & 36 &  98.17\\\\\n",
       "\t5 & 1 & 59.41410 & 1 & 3 & 2 & 3 & 3 & 4 & 65.125 & 36 &  62.89\\\\\n",
       "\t6 & 1 & 49.25941 & 2 & 3 & 3 & 3 & 3 & 4 & 63.125 & 35 &  37.83\\\\\n",
       "\\end{tabular}\n"
      ],
      "text/markdown": [
       "\n",
       "A data.frame: 6 × 11\n",
       "\n",
       "| <!--/--> | gender &lt;fct&gt; | age &lt;dbl&gt; | who3g &lt;ord&gt; | countpet_all6g &lt;dbl&gt; | tstage &lt;ord&gt; | nstage &lt;ord&gt; | timing &lt;fct&gt; | group &lt;int&gt; | eqd2 &lt;dbl&gt; | ott &lt;int&gt; | gtv1 &lt;dbl&gt; |\n",
       "|---|---|---|---|---|---|---|---|---|---|---|---|\n",
       "| 1 | 1 | 63.15674 | 2 | 4 | 4 | 4 | 3 | 4 | 53.125 | 28 | 192.86 |\n",
       "| 2 | 2 | 66.30527 | 2 | 4 | 4 | 3 | 3 | 4 | 55.125 | 32 | 154.93 |\n",
       "| 3 | 1 | 58.19849 | 1 | 1 | 4 | 1 | 3 | 4 | 65.125 | 32 |  85.07 |\n",
       "| 4 | 2 | 63.78097 | 2 | 6 | 3 | 4 | 3 | 4 | 63.125 | 36 |  98.17 |\n",
       "| 5 | 1 | 59.41410 | 1 | 3 | 2 | 3 | 3 | 4 | 65.125 | 36 |  62.89 |\n",
       "| 6 | 1 | 49.25941 | 2 | 3 | 3 | 3 | 3 | 4 | 63.125 | 35 |  37.83 |\n",
       "\n"
      ],
      "text/plain": [
       "  gender age      who3g countpet_all6g tstage nstage timing group eqd2   ott\n",
       "1 1      63.15674 2     4              4      4      3      4     53.125 28 \n",
       "2 2      66.30527 2     4              4      3      3      4     55.125 32 \n",
       "3 1      58.19849 1     1              4      1      3      4     65.125 32 \n",
       "4 2      63.78097 2     6              3      4      3      4     63.125 36 \n",
       "5 1      59.41410 1     3              2      3      3      4     65.125 36 \n",
       "6 1      49.25941 2     3              3      3      3      4     63.125 35 \n",
       "  gtv1  \n",
       "1 192.86\n",
       "2 154.93\n",
       "3  85.07\n",
       "4  98.17\n",
       "5  62.89\n",
       "6  37.83"
      ]
     },
     "metadata": {},
     "output_type": "display_data"
    }
   ],
   "source": [
    "lung.data.ind$gender=factor(lung.data.ind$gender)\n",
    "lung.data.ind$who3g=factor(lung.data.ind$who3g, order=T, levels=c(0,1,2,3,4))\n",
    "lung.data.ind$tstage=factor(lung.data.ind$tstage, order=T, levels=c(0,1,2,3,4))\n",
    "lung.data.ind$nstage=factor(lung.data.ind$nstage, order=T, levels=c(0,1,2,3,4))\n",
    "lung.data.ind$timing=factor(lung.data.ind$timing)\n",
    "head(lung.data.ind)"
   ]
  },
  {
   "cell_type": "markdown",
   "id": "dc4f4b05",
   "metadata": {},
   "source": [
    "## Dependent variables\n",
    "These variables are the explanatory variables that we hope to use to predict outcome. The dependent outcome we have in this dataset is survival time (alongside censoring information). \n",
    "\n",
    "We can examine the Kaplan-Meier survival curve using the `Surv()` and `survfit()` functions from the 'survial' package:\n",
    "1. Identify and extract the columns containing the survival and vital status data in the original dataset\n",
    "2. Clean the data as necessary\n",
    "3. Create and plot the survival object"
   ]
  },
  {
   "cell_type": "code",
   "execution_count": 190,
   "id": "77e0be1c",
   "metadata": {},
   "outputs": [
    {
     "data": {
      "text/html": [
       "<table class=\"dataframe\">\n",
       "<caption>A data.frame: 6 × 2</caption>\n",
       "<thead>\n",
       "\t<tr><th></th><th scope=col>survmonth</th><th scope=col>deadstat</th></tr>\n",
       "\t<tr><th></th><th scope=col>&lt;dbl&gt;</th><th scope=col>&lt;int&gt;</th></tr>\n",
       "</thead>\n",
       "<tbody>\n",
       "\t<tr><th scope=row>1</th><td>16.919918</td><td>1</td></tr>\n",
       "\t<tr><th scope=row>2</th><td> 5.125257</td><td>1</td></tr>\n",
       "\t<tr><th scope=row>3</th><td>57.960000</td><td>0</td></tr>\n",
       "\t<tr><th scope=row>4</th><td> 7.425051</td><td>1</td></tr>\n",
       "\t<tr><th scope=row>5</th><td>16.689938</td><td>1</td></tr>\n",
       "\t<tr><th scope=row>6</th><td>22.012320</td><td>1</td></tr>\n",
       "</tbody>\n",
       "</table>\n"
      ],
      "text/latex": [
       "A data.frame: 6 × 2\n",
       "\\begin{tabular}{r|ll}\n",
       "  & survmonth & deadstat\\\\\n",
       "  & <dbl> & <int>\\\\\n",
       "\\hline\n",
       "\t1 & 16.919918 & 1\\\\\n",
       "\t2 &  5.125257 & 1\\\\\n",
       "\t3 & 57.960000 & 0\\\\\n",
       "\t4 &  7.425051 & 1\\\\\n",
       "\t5 & 16.689938 & 1\\\\\n",
       "\t6 & 22.012320 & 1\\\\\n",
       "\\end{tabular}\n"
      ],
      "text/markdown": [
       "\n",
       "A data.frame: 6 × 2\n",
       "\n",
       "| <!--/--> | survmonth &lt;dbl&gt; | deadstat &lt;int&gt; |\n",
       "|---|---|---|\n",
       "| 1 | 16.919918 | 1 |\n",
       "| 2 |  5.125257 | 1 |\n",
       "| 3 | 57.960000 | 0 |\n",
       "| 4 |  7.425051 | 1 |\n",
       "| 5 | 16.689938 | 1 |\n",
       "| 6 | 22.012320 | 1 |\n",
       "\n"
      ],
      "text/plain": [
       "  survmonth deadstat\n",
       "1 16.919918 1       \n",
       "2  5.125257 1       \n",
       "3 57.960000 0       \n",
       "4  7.425051 1       \n",
       "5 16.689938 1       \n",
       "6 22.012320 1       "
      ]
     },
     "metadata": {},
     "output_type": "display_data"
    }
   ],
   "source": [
    "lung.data.dep=lung.data[,which(names(lung.data) %in% c(\"survmonth\",\"deadstat\"))]\n",
    "lung.data.dep$survmonth=as.numeric(gsub(',','.',lung.data.dep$survmonth))\n",
    "head(lung.data.dep)"
   ]
  },
  {
   "cell_type": "markdown",
   "id": "51000e8c",
   "metadata": {},
   "source": [
    "### Survival analysis\n",
    "Build survival model and check survival curve. Data is plotted using the `ggsurvplot()` function from the 'survminer' package."
   ]
  },
  {
   "cell_type": "code",
   "execution_count": 191,
   "id": "63d9553c",
   "metadata": {},
   "outputs": [
    {
     "data": {
      "image/png": "[encoded data removed]",
      "text/plain": [
       "plot without title"
      ]
     },
     "metadata": {
      "image/png": {
       "height": 420,
       "width": 420
      }
     },
     "output_type": "display_data"
    }
   ],
   "source": [
    "lung.survial=Surv(as.numeric(lung.data.dep$survmonth),lung.data.dep$deadstat)\n",
    "ggsurvplot(survfit(lung.survial~1,data=lung.data.ind),data=lung.data,risk.table=TRUE)"
   ]
  },
  {
   "cell_type": "markdown",
   "id": "562a5edc",
   "metadata": {},
   "source": [
    "We can then assess the imfluence of different explanatory factors on patient survival by:\n",
    "1. Plotting different survival curves for patient subgroups\n",
    "2. Undertaking a survival analysis\n",
    "\n",
    "Below we both use the Cox proportional hazards model to estimate the hazard ratios associated with the each factor, and plot K-M curves dichotimised on different explanatory variables"
   ]
  },
  {
   "cell_type": "markdown",
   "id": "da394bce",
   "metadata": {},
   "source": [
    "The cox model is run using the `coxph()` function from the 'survial' package. This can be univariable (ie assessing the impact of only 1 factor at a time). Below we see how we can do this for patient tumour volume. This shows us that there is a significant hazard ratio of 1.001 (i.e. increased hazard of death from baseline risk) per 1cm3 increase in GTV volume.  \n"
   ]
  },
  {
   "cell_type": "code",
   "execution_count": 192,
   "id": "74273ab7",
   "metadata": {},
   "outputs": [
    {
     "name": "stdout",
     "output_type": "stream",
     "text": [
      "Call:\n",
      "coxph(formula = lung.survial ~ gtv1, data = lung.data.ind)\n",
      "\n",
      "  n= 548, number of events= 456 \n",
      "\n",
      "          coef exp(coef)  se(coef)     z Pr(>|z|)   \n",
      "gtv1 0.0012967 1.0012976 0.0004024 3.223  0.00127 **\n",
      "---\n",
      "Signif. codes:  0 '***' 0.001 '**' 0.01 '*' 0.05 '.' 0.1 ' ' 1\n",
      "\n",
      "     exp(coef) exp(-coef) lower .95 upper .95\n",
      "gtv1     1.001     0.9987     1.001     1.002\n",
      "\n",
      "Concordance= 0.572  (se = 0.016 )\n",
      "Likelihood ratio test= 9.07  on 1 df,   p=0.003\n",
      "Wald test            = 10.39  on 1 df,   p=0.001\n",
      "Score (logrank) test = 10.45  on 1 df,   p=0.001\n",
      "\n"
     ]
    }
   ],
   "source": [
    "lung.uniCox=coxph(lung.survial~gtv1,data=lung.data.ind)\n",
    "print(summary(lung.uniCox))"
   ]
  },
  {
   "cell_type": "markdown",
   "id": "26d214b0",
   "metadata": {},
   "source": [
    "If we dicotomise GTV volume on some threshold (e.g. mean, median, or an absolute value of interest) we can then plot 2 K-M curves, one for patients with GTV volume smaller than the threshold vs patinets above this threshold. As expected, we see that high risk patients with larger GTV volume do worse. "
   ]
  },
  {
   "cell_type": "code",
   "execution_count": 193,
   "id": "984a4ed0",
   "metadata": {},
   "outputs": [
    {
     "data": {
      "image/png": "[encoded data removed]",
      "text/plain": [
       "plot without title"
      ]
     },
     "metadata": {
      "image/png": {
       "height": 420,
       "width": 420
      }
     },
     "output_type": "display_data"
    }
   ],
   "source": [
    "lung.data.dichot=lung.data.ind\n",
    "lung.data.dichot$gtvRisk = rep(0,nrow(lung.data.ind))\n",
    "lung.data.dichot$gtvRisk[which(lung.data.dichot$gtv1 > median(lung.data.dichot$gtv1))]=1\n",
    "ggsurvplot(survfit(lung.survial~gtvRisk,data=lung.data.dichot),data=lung.data.dichot,risk.table=TRUE)"
   ]
  },
  {
   "cell_type": "markdown",
   "id": "c2c656c3",
   "metadata": {},
   "source": [
    "We can undertake univariable analysis for each variable we want to consider as part of a loop. For display reasons we assign a new data frame and extract the hazard and associated p-value to this for display once the loop has completed. As a technical note: where we consider ordinal factors, the cox model will give linear, quadratic and cubic estimates of how the hazard ratio changes with different factor levels with respect to the reference (e.g. lowest) level. Categorical variable will give one estimate per level (again, against a  reference). In the below example we take the linear estimate for ordinal variables. For simplicity of code we only include the first level estimate for the categorical 'timing' (timing of chemotherapy) in the display table. As an exercise you can modify the code below to also include the other factor levels."
   ]
  },
  {
   "cell_type": "code",
   "execution_count": 194,
   "id": "24a58b91",
   "metadata": {},
   "outputs": [
    {
     "data": {
      "text/html": [
       "<table class=\"dataframe\">\n",
       "<caption>A formattable: 11 × 3</caption>\n",
       "<thead>\n",
       "\t<tr><th scope=col>variable</th><th scope=col>univariableHR</th><th scope=col>univariableP</th></tr>\n",
       "\t<tr><th scope=col>&lt;chr&gt;</th><th scope=col>&lt;dbl&gt;</th><th scope=col>&lt;dbl&gt;</th></tr>\n",
       "</thead>\n",
       "<tbody>\n",
       "\t<tr><td>gender        </td><td>0.8375060</td><td>8.534323e-02</td></tr>\n",
       "\t<tr><td>age           </td><td>1.0098813</td><td>5.750249e-02</td></tr>\n",
       "\t<tr><td>who3g         </td><td>2.8376096</td><td>2.213483e-05</td></tr>\n",
       "\t<tr><td>countpet_all6g</td><td>1.1005999</td><td>8.093132e-04</td></tr>\n",
       "\t<tr><td>tstage        </td><td>1.6526899</td><td>3.684927e-01</td></tr>\n",
       "\t<tr><td>nstage        </td><td>0.4345209</td><td>4.902704e-01</td></tr>\n",
       "\t<tr><td>timing        </td><td>0.8220829</td><td>1.670883e-01</td></tr>\n",
       "\t<tr><td>group         </td><td>0.8461808</td><td>3.851740e-04</td></tr>\n",
       "\t<tr><td>eqd2          </td><td>0.9847232</td><td>2.071315e-02</td></tr>\n",
       "\t<tr><td>ott           </td><td>1.0062954</td><td>2.777995e-01</td></tr>\n",
       "\t<tr><td>gtv1          </td><td>1.0012976</td><td>1.270291e-03</td></tr>\n",
       "</tbody>\n",
       "</table>\n"
      ],
      "text/latex": [
       "A formattable: 11 × 3\n",
       "\\begin{tabular}{lll}\n",
       " variable & univariableHR & univariableP\\\\\n",
       " <chr> & <dbl> & <dbl>\\\\\n",
       "\\hline\n",
       "\t gender         & 0.8375060 & 8.534323e-02\\\\\n",
       "\t age            & 1.0098813 & 5.750249e-02\\\\\n",
       "\t who3g          & 2.8376096 & 2.213483e-05\\\\\n",
       "\t countpet\\_all6g & 1.1005999 & 8.093132e-04\\\\\n",
       "\t tstage         & 1.6526899 & 3.684927e-01\\\\\n",
       "\t nstage         & 0.4345209 & 4.902704e-01\\\\\n",
       "\t timing         & 0.8220829 & 1.670883e-01\\\\\n",
       "\t group          & 0.8461808 & 3.851740e-04\\\\\n",
       "\t eqd2           & 0.9847232 & 2.071315e-02\\\\\n",
       "\t ott            & 1.0062954 & 2.777995e-01\\\\\n",
       "\t gtv1           & 1.0012976 & 1.270291e-03\\\\\n",
       "\\end{tabular}\n"
      ],
      "text/markdown": [
       "\n",
       "A formattable: 11 × 3\n",
       "\n",
       "| variable &lt;chr&gt; | univariableHR &lt;dbl&gt; | univariableP &lt;dbl&gt; |\n",
       "|---|---|---|\n",
       "| gender         | 0.8375060 | 8.534323e-02 |\n",
       "| age            | 1.0098813 | 5.750249e-02 |\n",
       "| who3g          | 2.8376096 | 2.213483e-05 |\n",
       "| countpet_all6g | 1.1005999 | 8.093132e-04 |\n",
       "| tstage         | 1.6526899 | 3.684927e-01 |\n",
       "| nstage         | 0.4345209 | 4.902704e-01 |\n",
       "| timing         | 0.8220829 | 1.670883e-01 |\n",
       "| group          | 0.8461808 | 3.851740e-04 |\n",
       "| eqd2           | 0.9847232 | 2.071315e-02 |\n",
       "| ott            | 1.0062954 | 2.777995e-01 |\n",
       "| gtv1           | 1.0012976 | 1.270291e-03 |\n",
       "\n"
      ],
      "text/plain": [
       "   variable       univariableHR univariableP\n",
       "1  gender         0.8375060     8.534323e-02\n",
       "2  age            1.0098813     5.750249e-02\n",
       "3  who3g          2.8376096     2.213483e-05\n",
       "4  countpet_all6g 1.1005999     8.093132e-04\n",
       "5  tstage         1.6526899     3.684927e-01\n",
       "6  nstage         0.4345209     4.902704e-01\n",
       "7  timing         0.8220829     1.670883e-01\n",
       "8  group          0.8461808     3.851740e-04\n",
       "9  eqd2           0.9847232     2.071315e-02\n",
       "10 ott            1.0062954     2.777995e-01\n",
       "11 gtv1           1.0012976     1.270291e-03"
      ]
     },
     "metadata": {},
     "output_type": "display_data"
    }
   ],
   "source": [
    "analysis.results = data.frame(variable=character(ncol(lung.data.ind)),univariableHR=numeric(ncol(lung.data.ind)),\n",
    "                            univariableP=numeric(ncol(lung.data.ind)),stringsAsFactors = FALSE)\n",
    "for(i in 1:ncol(lung.data.ind)){\n",
    "  lung.uniCox=coxph(as.formula(paste(\"lung.survial~\",names(lung.data.ind)[i])),data=lung.data.ind)\n",
    "  analysis.results$variable[i]=toString(names(lung.data.ind)[i])\n",
    "  analysis.results$univariableHR[i]=summary(lung.uniCox)$coefficients[1,2]\n",
    "  analysis.results$univariableP[i]=summary(lung.uniCox)$coefficients[1,5]\n",
    "}\n",
    "formattable(analysis.results)"
   ]
  },
  {
   "cell_type": "markdown",
   "id": "7060aa4f",
   "metadata": {},
   "source": [
    "Finally we will undertake a multivariable analysis and see how these values compare to the univariable estimations"
   ]
  },
  {
   "cell_type": "code",
   "execution_count": 195,
   "id": "9041f229",
   "metadata": {},
   "outputs": [
    {
     "name": "stdout",
     "output_type": "stream",
     "text": [
      "Call:\n",
      "coxph(formula = lung.survial ~ gender + age + who3g + countpet_all6g + \n",
      "    tstage + nstage + timing + group + eqd2 + ott + gtv1, data = lung.data.ind)\n",
      "\n",
      "                     coef  exp(coef)   se(coef)      z        p\n",
      "gender2        -0.3135094  0.7308775  0.1086960 -2.884 0.003923\n",
      "age             0.0045056  1.0045157  0.0055778  0.808 0.419228\n",
      "who3g.L         0.9570824  2.6040876  0.2608234  3.669 0.000243\n",
      "who3g.Q        -0.1323547  0.8760302  0.3838418 -0.345 0.730233\n",
      "who3g.C                NA         NA  0.0000000     NA       NA\n",
      "who3g^4                NA         NA  0.0000000     NA       NA\n",
      "countpet_all6g  0.1685331  1.1835674  0.0424221  3.973 7.10e-05\n",
      "tstage.L        0.4464120  1.5626952  0.5769140  0.774 0.439053\n",
      "tstage.Q       -0.1946264  0.8231422  0.4606969 -0.422 0.672689\n",
      "tstage.C       -0.1593741  0.8526773  0.2948078 -0.541 0.588781\n",
      "tstage^4               NA         NA  0.0000000     NA       NA\n",
      "nstage.L       -0.9159271  0.4001455  1.2356879 -0.741 0.458555\n",
      "nstage.Q        1.0119622  2.7509936  1.1801127  0.858 0.391161\n",
      "nstage.C       -0.6639405  0.5148187  0.6037923 -1.100 0.271499\n",
      "nstage^4               NA         NA  0.0000000     NA       NA\n",
      "timing2         0.1125356  1.1191121  0.3818288  0.295 0.768202\n",
      "timing3        -0.1740444  0.8402596  0.5855145 -0.297 0.766275\n",
      "group          -0.1450361  0.8649911  0.1881469 -0.771 0.440786\n",
      "eqd2           -0.0186013  0.9815706  0.0081624 -2.279 0.022672\n",
      "ott             0.0294709  1.0299094  0.0067829  4.345 1.39e-05\n",
      "gtv1            0.0014633  1.0014644  0.0004557  3.211 0.001320\n",
      "\n",
      "Likelihood ratio test=99.11  on 17 df, p=1.3e-13\n",
      "n= 548, number of events= 456 \n"
     ]
    }
   ],
   "source": [
    "lung.multiCox=coxph(lung.survial~gender+age+who3g+countpet_all6g+tstage+nstage+timing+group+\n",
    "                      eqd2+ott+gtv1,data=lung.data.ind)\n",
    "print(lung.multiCox)"
   ]
  },
  {
   "cell_type": "markdown",
   "id": "84c96190",
   "metadata": {},
   "source": [
    "We can then add these data to the table to enable easy comparison"
   ]
  },
  {
   "cell_type": "code",
   "execution_count": 196,
   "id": "0864bb44",
   "metadata": {},
   "outputs": [
    {
     "data": {
      "text/html": [
       "<table class=\"dataframe\">\n",
       "<caption>A formattable: 11 × 5</caption>\n",
       "<thead>\n",
       "\t<tr><th scope=col>variable</th><th scope=col>univariableHR</th><th scope=col>univariableP</th><th scope=col>multivariableHR</th><th scope=col>multivariableP</th></tr>\n",
       "\t<tr><th scope=col>&lt;chr&gt;</th><th scope=col>&lt;dbl&gt;</th><th scope=col>&lt;dbl&gt;</th><th scope=col>&lt;dbl&gt;</th><th scope=col>&lt;dbl&gt;</th></tr>\n",
       "</thead>\n",
       "<tbody>\n",
       "\t<tr><td>gender        </td><td>0.8375060</td><td>8.534323e-02</td><td>0.7308775</td><td>3.923127e-03</td></tr>\n",
       "\t<tr><td>age           </td><td>1.0098813</td><td>5.750249e-02</td><td>1.0045157</td><td>4.192284e-01</td></tr>\n",
       "\t<tr><td>who3g         </td><td>2.8376096</td><td>2.213483e-05</td><td>2.6040876</td><td>2.430586e-04</td></tr>\n",
       "\t<tr><td>countpet_all6g</td><td>1.1005999</td><td>8.093132e-04</td><td>1.1835674</td><td>7.104249e-05</td></tr>\n",
       "\t<tr><td>tstage        </td><td>1.6526899</td><td>3.684927e-01</td><td>1.5626952</td><td>4.390532e-01</td></tr>\n",
       "\t<tr><td>nstage        </td><td>0.4345209</td><td>4.902704e-01</td><td>0.4001455</td><td>4.585549e-01</td></tr>\n",
       "\t<tr><td>timing        </td><td>0.8220829</td><td>1.670883e-01</td><td>1.1191121</td><td>7.682017e-01</td></tr>\n",
       "\t<tr><td>group         </td><td>0.8461808</td><td>3.851740e-04</td><td>0.8649911</td><td>4.407862e-01</td></tr>\n",
       "\t<tr><td>eqd2          </td><td>0.9847232</td><td>2.071315e-02</td><td>0.9815706</td><td>2.267202e-02</td></tr>\n",
       "\t<tr><td>ott           </td><td>1.0062954</td><td>2.777995e-01</td><td>1.0299094</td><td>1.393478e-05</td></tr>\n",
       "\t<tr><td>gtv1          </td><td>1.0012976</td><td>1.270291e-03</td><td>1.0014644</td><td>1.320473e-03</td></tr>\n",
       "</tbody>\n",
       "</table>\n"
      ],
      "text/latex": [
       "A formattable: 11 × 5\n",
       "\\begin{tabular}{lllll}\n",
       " variable & univariableHR & univariableP & multivariableHR & multivariableP\\\\\n",
       " <chr> & <dbl> & <dbl> & <dbl> & <dbl>\\\\\n",
       "\\hline\n",
       "\t gender         & 0.8375060 & 8.534323e-02 & 0.7308775 & 3.923127e-03\\\\\n",
       "\t age            & 1.0098813 & 5.750249e-02 & 1.0045157 & 4.192284e-01\\\\\n",
       "\t who3g          & 2.8376096 & 2.213483e-05 & 2.6040876 & 2.430586e-04\\\\\n",
       "\t countpet\\_all6g & 1.1005999 & 8.093132e-04 & 1.1835674 & 7.104249e-05\\\\\n",
       "\t tstage         & 1.6526899 & 3.684927e-01 & 1.5626952 & 4.390532e-01\\\\\n",
       "\t nstage         & 0.4345209 & 4.902704e-01 & 0.4001455 & 4.585549e-01\\\\\n",
       "\t timing         & 0.8220829 & 1.670883e-01 & 1.1191121 & 7.682017e-01\\\\\n",
       "\t group          & 0.8461808 & 3.851740e-04 & 0.8649911 & 4.407862e-01\\\\\n",
       "\t eqd2           & 0.9847232 & 2.071315e-02 & 0.9815706 & 2.267202e-02\\\\\n",
       "\t ott            & 1.0062954 & 2.777995e-01 & 1.0299094 & 1.393478e-05\\\\\n",
       "\t gtv1           & 1.0012976 & 1.270291e-03 & 1.0014644 & 1.320473e-03\\\\\n",
       "\\end{tabular}\n"
      ],
      "text/markdown": [
       "\n",
       "A formattable: 11 × 5\n",
       "\n",
       "| variable &lt;chr&gt; | univariableHR &lt;dbl&gt; | univariableP &lt;dbl&gt; | multivariableHR &lt;dbl&gt; | multivariableP &lt;dbl&gt; |\n",
       "|---|---|---|---|---|\n",
       "| gender         | 0.8375060 | 8.534323e-02 | 0.7308775 | 3.923127e-03 |\n",
       "| age            | 1.0098813 | 5.750249e-02 | 1.0045157 | 4.192284e-01 |\n",
       "| who3g          | 2.8376096 | 2.213483e-05 | 2.6040876 | 2.430586e-04 |\n",
       "| countpet_all6g | 1.1005999 | 8.093132e-04 | 1.1835674 | 7.104249e-05 |\n",
       "| tstage         | 1.6526899 | 3.684927e-01 | 1.5626952 | 4.390532e-01 |\n",
       "| nstage         | 0.4345209 | 4.902704e-01 | 0.4001455 | 4.585549e-01 |\n",
       "| timing         | 0.8220829 | 1.670883e-01 | 1.1191121 | 7.682017e-01 |\n",
       "| group          | 0.8461808 | 3.851740e-04 | 0.8649911 | 4.407862e-01 |\n",
       "| eqd2           | 0.9847232 | 2.071315e-02 | 0.9815706 | 2.267202e-02 |\n",
       "| ott            | 1.0062954 | 2.777995e-01 | 1.0299094 | 1.393478e-05 |\n",
       "| gtv1           | 1.0012976 | 1.270291e-03 | 1.0014644 | 1.320473e-03 |\n",
       "\n"
      ],
      "text/plain": [
       "   variable       univariableHR univariableP multivariableHR multivariableP\n",
       "1  gender         0.8375060     8.534323e-02 0.7308775       3.923127e-03  \n",
       "2  age            1.0098813     5.750249e-02 1.0045157       4.192284e-01  \n",
       "3  who3g          2.8376096     2.213483e-05 2.6040876       2.430586e-04  \n",
       "4  countpet_all6g 1.1005999     8.093132e-04 1.1835674       7.104249e-05  \n",
       "5  tstage         1.6526899     3.684927e-01 1.5626952       4.390532e-01  \n",
       "6  nstage         0.4345209     4.902704e-01 0.4001455       4.585549e-01  \n",
       "7  timing         0.8220829     1.670883e-01 1.1191121       7.682017e-01  \n",
       "8  group          0.8461808     3.851740e-04 0.8649911       4.407862e-01  \n",
       "9  eqd2           0.9847232     2.071315e-02 0.9815706       2.267202e-02  \n",
       "10 ott            1.0062954     2.777995e-01 1.0299094       1.393478e-05  \n",
       "11 gtv1           1.0012976     1.270291e-03 1.0014644       1.320473e-03  "
      ]
     },
     "metadata": {},
     "output_type": "display_data"
    }
   ],
   "source": [
    "multivariableHR=numeric(ncol(lung.data.ind))\n",
    "multivariableP=numeric(ncol(lung.data.ind))\n",
    "\n",
    "multivariableHR[1]=summary(lung.multiCox)$coefficients[1,2]\n",
    "multivariableP[1]=summary(lung.multiCox)$coefficients[1,5]\n",
    "\n",
    "multivariableHR[2]=summary(lung.multiCox)$coefficients[2,2]\n",
    "multivariableP[2]=summary(lung.multiCox)$coefficients[2,5]\n",
    "\n",
    "multivariableHR[3]=summary(lung.multiCox)$coefficients[3,2]\n",
    "multivariableP[3]=summary(lung.multiCox)$coefficients[3,5]\n",
    "\n",
    "multivariableHR[4]=summary(lung.multiCox)$coefficients[7,2]\n",
    "multivariableP[4]=summary(lung.multiCox)$coefficients[7,5]\n",
    "\n",
    "multivariableHR[5]=summary(lung.multiCox)$coefficients[8,2]\n",
    "multivariableP[5]=summary(lung.multiCox)$coefficients[8,5]\n",
    "\n",
    "multivariableHR[6]=summary(lung.multiCox)$coefficients[12,2]\n",
    "multivariableP[6]=summary(lung.multiCox)$coefficients[12,5]\n",
    "\n",
    "multivariableHR[7]=summary(lung.multiCox)$coefficients[16,2]\n",
    "multivariableP[7]=summary(lung.multiCox)$coefficients[16,5]\n",
    "\n",
    "multivariableHR[8]=summary(lung.multiCox)$coefficients[18,2]\n",
    "multivariableP[8]=summary(lung.multiCox)$coefficients[18,5]\n",
    "\n",
    "multivariableHR[9]=summary(lung.multiCox)$coefficients[19,2]\n",
    "multivariableP[9]=summary(lung.multiCox)$coefficients[19,5]\n",
    "\n",
    "multivariableHR[10]=summary(lung.multiCox)$coefficients[20,2]\n",
    "multivariableP[10]=summary(lung.multiCox)$coefficients[20,5]\n",
    "\n",
    "multivariableHR[11]=summary(lung.multiCox)$coefficients[21,2]\n",
    "multivariableP[11]=summary(lung.multiCox)$coefficients[21,5]\n",
    "\n",
    "analysis.results$multivariableHR=multivariableHR\n",
    "analysis.results$multivariableP=multivariableP\n",
    "\n",
    "formattable(analysis.results)"
   ]
  },
  {
   "cell_type": "markdown",
   "id": "d27f5472",
   "metadata": {},
   "source": [
    "As can be seen there are now differences between the hazard ratio estimations for each factor. In particular:\n",
    "* Age is identified as much less likely to have significant influence on survival in the multivariable analysis\n",
    "* Overall treatment time is found to be more influential in the multivariable analysis (whereas previously we might have dismissed this as a relevent factor)."
   ]
  }
 ],
 "metadata": {
  "kernelspec": {
   "display_name": "R",
   "language": "R",
   "name": "ir"
  },
  "language_info": {
   "codemirror_mode": "r",
   "file_extension": ".r",
   "mimetype": "text/x-r-source",
   "name": "R",
   "pygments_lexer": "r",
   "version": "3.6.0"
  }
 },
 "nbformat": 4,
 "nbformat_minor": 5
}
